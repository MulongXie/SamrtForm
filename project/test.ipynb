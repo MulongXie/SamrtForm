{
 "cells": [
  {
   "cell_type": "code",
   "execution_count": 1,
   "metadata": {},
   "outputs": [],
   "source": [
    "from obj.Form import Form\n",
    "from obj.Image import Image\n",
    "import cv2"
   ]
  },
  {
   "cell_type": "code",
   "execution_count": 2,
   "metadata": {},
   "outputs": [
    {
     "name": "stdout",
     "output_type": "stream",
     "text": [
      "*** Google OCR Processing Time:2.112 s***\n",
      "*** Element Detection Time:0.291 s***\n"
     ]
    }
   ],
   "source": [
    "form = Form('data/3.jpg')\n",
    "form.text_detection()\n",
    "form.element_detection()\n",
    "form.assign_element_ids()\n",
    "# form.visualize_all_elements()\n",
    "form.textbox_recognition()\n",
    "# form.visualize_all_elements()\n",
    "form.group_elements_to_units()\n",
    "form.sort_units()\n",
    "# form.visualize_units()"
   ]
  },
  {
   "cell_type": "code",
   "execution_count": 3,
   "metadata": {},
   "outputs": [
    {
     "name": "stdout",
     "output_type": "stream",
     "text": [
      "4 4\n"
     ]
    }
   ],
   "source": [
    "ts = form.table_detection()"
   ]
  },
  {
   "cell_type": "code",
   "execution_count": 7,
   "metadata": {},
   "outputs": [
    {
     "data": {
      "text/plain": [
       "[<obj.Table.Table at 0x29a1549ab38>]"
      ]
     },
     "execution_count": 7,
     "metadata": {},
     "output_type": "execute_result"
    }
   ],
   "source": [
    "ts"
   ]
  },
  {
   "cell_type": "code",
   "execution_count": 5,
   "metadata": {},
   "outputs": [],
   "source": [
    "t = ts[0]\n",
    "img = form.get_img_copy()\n",
    "for row in t.rows:\n",
    "    row.visualize_row(img, show=True)"
   ]
  },
  {
   "cell_type": "code",
   "execution_count": null,
   "metadata": {},
   "outputs": [],
   "source": []
  },
  {
   "cell_type": "code",
   "execution_count": null,
   "metadata": {},
   "outputs": [],
   "source": []
  },
  {
   "cell_type": "code",
   "execution_count": 3,
   "metadata": {},
   "outputs": [],
   "source": [
    "def test_ele(e):\n",
    "    img = form.img.img.copy()\n",
    "    e.visualize_element(img, show=True)\n",
    "\n",
    "    row = form.row_detection(e)\n",
    "    row.visualize_row(img, show=True)\n",
    "    return row"
   ]
  },
  {
   "cell_type": "code",
   "execution_count": 4,
   "metadata": {},
   "outputs": [
    {
     "data": {
      "text/plain": [
       "True"
      ]
     },
     "execution_count": 4,
     "metadata": {},
     "output_type": "execute_result"
    }
   ],
   "source": [
    "row1 = test_ele(form.bar_units[25])\n",
    "row2 = test_ele(form.bar_units[26])\n",
    "row1.is_matched(row2)"
   ]
  },
  {
   "cell_type": "code",
   "execution_count": null,
   "metadata": {},
   "outputs": [],
   "source": [
    "rs = row1.match_rows(row2)\n",
    "img = form.img.img.copy()\n",
    "for r in rs:\n",
    "    r.visualize_row(img, show=True)"
   ]
  },
  {
   "cell_type": "code",
   "execution_count": null,
   "metadata": {},
   "outputs": [],
   "source": []
  },
  {
   "cell_type": "code",
   "execution_count": 15,
   "metadata": {},
   "outputs": [],
   "source": [
    "et.in_table"
   ]
  },
  {
   "cell_type": "code",
   "execution_count": 9,
   "metadata": {},
   "outputs": [
    {
     "data": {
      "text/plain": [
       "False"
      ]
     },
     "execution_count": 9,
     "metadata": {},
     "output_type": "execute_result"
    }
   ],
   "source": [
    "et = form.bar_units[92]\n",
    "etn = form.find_neighbour_unit(et, direction='top')\n",
    "et.visualize_element(form.img.img.copy(), show=True)\n",
    "etn.visualize_element(form.img.img.copy(), show=True)\n",
    "et.is_on_same_line(etn, direction='v')"
   ]
  },
  {
   "cell_type": "code",
   "execution_count": 5,
   "metadata": {},
   "outputs": [],
   "source": [
    "form.input_compound_recognition()\n",
    "form.visualize_inputs()"
   ]
  }
 ],
 "metadata": {
  "kernelspec": {
   "display_name": "Python 3",
   "language": "python",
   "name": "python3"
  },
  "language_info": {
   "codemirror_mode": {
    "name": "ipython",
    "version": 3
   },
   "file_extension": ".py",
   "mimetype": "text/x-python",
   "name": "python",
   "nbconvert_exporter": "python",
   "pygments_lexer": "ipython3",
   "version": "3.5.6"
  }
 },
 "nbformat": 4,
 "nbformat_minor": 2
}
