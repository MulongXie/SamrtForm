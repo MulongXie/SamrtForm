{
 "cells": [
  {
   "cell_type": "code",
   "execution_count": 1,
   "metadata": {},
   "outputs": [],
   "source": [
    "from detection.Form import Form\n",
    "from detection.Image import Image\n",
    "import cv2\n",
    "import numpy as np\n",
    "import json"
   ]
  },
  {
   "cell_type": "code",
   "execution_count": 2,
   "metadata": {},
   "outputs": [],
   "source": [
    "# *** 1. Form structure recognition ***\n",
    "# form = Form('data/input/11.jpg', resize_height=900)\n",
    "form = Form('data/input/1.jpg')\n",
    "form.text_detection()\n",
    "form.element_detection()\n",
    "form.visualize_all_elements()"
   ]
  },
  {
   "cell_type": "code",
   "execution_count": 3,
   "metadata": {},
   "outputs": [],
   "source": [
    "# *** 2. Basic element noise removal ***\n",
    "form.filter_detection_noises()\n",
    "form.text_sentences_recognition()\n",
    "form.shrink_text_and_filter_noises()\n",
    "form.assign_element_ids()\n",
    "form.visualize_all_elements()"
   ]
  },
  {
   "cell_type": "code",
   "execution_count": 4,
   "metadata": {},
   "outputs": [],
   "source": [
    "# *** 3. Special element recognition ***\n",
    "form.border_and_textbox_recognition()\n",
    "# form.visualize_all_elements()\n",
    "form.character_box_recognition()\n",
    "form.visualize_all_elements()"
   ]
  },
  {
   "cell_type": "code",
   "execution_count": 5,
   "metadata": {},
   "outputs": [],
   "source": [
    "# *** 4. Units labelling ***\n",
    "form.label_elements_as_units()\n",
    "form.sort_units()\n",
    "form.border_line_recognition()\n",
    "form.visualize_units()"
   ]
  },
  {
   "cell_type": "code",
   "execution_count": 6,
   "metadata": {},
   "outputs": [],
   "source": [
    "# *** 5. Form structure recognition ***\n",
    "form.check_vertical_aligned_form()\n",
    "form.visualize_vertical_separators()\n",
    "form.group_elements_by_separators()\n",
    "form.visualize_unit_groups()"
   ]
  },
  {
   "cell_type": "code",
   "execution_count": 7,
   "metadata": {},
   "outputs": [],
   "source": [
    "# *** 6. Table obj ***\n",
    "form.table_detection()\n",
    "# form.visualize_all_elements()\n",
    "form.table_refine()\n",
    "form.visualize_all_elements()"
   ]
  },
  {
   "cell_type": "code",
   "execution_count": 9,
   "metadata": {},
   "outputs": [],
   "source": [
    "# *** 7. Input compound recognition ***\n",
    "form.input_compound_recognition()\n",
    "form.visualize_detection_result()\n",
    "form.input_refine()\n",
    "# form.visualize_inputs()\n",
    "form.text_refine()\n",
    "form.visualize_detection_result()"
   ]
  },
  {
   "cell_type": "code",
   "execution_count": 10,
   "metadata": {},
   "outputs": [
    {
     "name": "stdout",
     "output_type": "stream",
     "text": [
      "Write to: data/output/3\\detection.jpg\n"
     ]
    }
   ],
   "source": [
    "# *** 8. Export ***\n",
    "form.export_detection_result_img()"
   ]
  },
  {
   "cell_type": "code",
   "execution_count": null,
   "metadata": {},
   "outputs": [],
   "source": []
  },
  {
   "cell_type": "code",
   "execution_count": 33,
   "metadata": {},
   "outputs": [],
   "source": [
    "compos = form.get_detection_result()"
   ]
  },
  {
   "cell_type": "code",
   "execution_count": 37,
   "metadata": {},
   "outputs": [
    {
     "name": "stdout",
     "output_type": "stream",
     "text": [
      "{'type': 'text', 'content': 'Australian\\nNational\\nUniversity', 'id': 0, 'location': {'bottom': 73, 'right': 449, 'left': 386, 'top': 33}}\n",
      "{'type': 'text', 'content': 'anusa', 'id': 1, 'location': {'bottom': 58, 'right': 296, 'left': 214, 'top': 41}}\n",
      "{'type': 'text', 'content': 'anusa.com.au', 'id': 2, 'location': {'bottom': 74, 'right': 297, 'left': 215, 'top': 61}}\n",
      "{'type': 'text', 'content': 'Please explain your situation and your reasons for needing assistance, including the steps that you have taken to resolve your', 'id': 3, 'location': {'bottom': 403, 'right': 579, 'left': 50, 'top': 390}}\n",
      "{'type': 'text', 'content': 'I give permission for my academic record and other documents to be held by ANUSA and the University to be assessed for the\\nANU Book Award. Any information supplied will be treated in confidence and will be used by ANUSA and the University to determine\\neligibility for this program only. I declare that the information provided on this form is true and complete.', 'id': 4, 'location': {'bottom': 680, 'right': 578, 'left': 49, 'top': 642}}\n",
      "{'type': 'textbox', 'content': 'OFFICE USE ONLY', 'id': 5, 'location': {'bottom': 731, 'right': 583, 'left': 44, 'top': 712}}\n",
      "{'type': 'textbox', 'content': 'SIGNATURES', 'id': 6, 'location': {'bottom': 643, 'right': 583, 'left': 44, 'top': 622}}\n",
      "{'type': 'textbox', 'content': 'REASONS FOR APPLICATION', 'id': 7, 'location': {'bottom': 389, 'right': 583, 'left': 44, 'top': 368}}\n",
      "{'type': 'textbox', 'content': 'BOOKS REQUIRED FOR CURRENTLY ENROLLED COURSES', 'id': 8, 'location': {'bottom': 228, 'right': 583, 'left': 44, 'top': 208}}\n",
      "{'type': 'textbox', 'content': 'APPLICANT INFORMATION', 'id': 9, 'location': {'bottom': 133, 'right': 583, 'left': 44, 'top': 112}}\n",
      "{'type': 'textbox', 'content': 'ANU Book Award', 'id': 10, 'location': {'bottom': 113, 'right': 584, 'left': 43, 'top': 77}}\n",
      "{'type': 'table', 'id': 11, 'location': {'bottom': 369, 'top': 228, 'left': 44, 'right': 583}}\n",
      "{'type': 'input', 'id': 12, 'label': 'Date:', 'location': {'bottom': 806, 'top': 788, 'left': 330, 'right': 583}}\n",
      "{'type': 'input', 'id': 13, 'label': 'Co- signed:', 'location': {'bottom': 806, 'top': 788, 'left': 44, 'right': 329}}\n",
      "{'type': 'input', 'id': 14, 'label': 'Date:', 'location': {'bottom': 787, 'top': 769, 'left': 330, 'right': 583}}\n",
      "{'type': 'input', 'id': 15, 'label': 'Co- signed:', 'location': {'bottom': 787, 'top': 769, 'left': 44, 'right': 329}}\n",
      "{'type': 'input', 'id': 16, 'label': 'Date of decision:', 'location': {'bottom': 768, 'top': 750, 'left': 330, 'right': 583}}\n",
      "{'type': 'input', 'id': 17, 'label': 'Decision on application and amount awarded:', 'location': {'bottom': 768, 'top': 750, 'left': 44, 'right': 329}}\n",
      "{'type': 'input', 'id': 18, 'label': 'Date received:', 'location': {'bottom': 750, 'top': 731, 'left': 330, 'right': 583}}\n",
      "{'type': 'input', 'id': 19, 'label': 'Application received by:', 'location': {'bottom': 750, 'top': 731, 'left': 44, 'right': 329}}\n",
      "{'type': 'input', 'id': 20, 'label': 'Date:', 'location': {'bottom': 712, 'top': 681, 'left': 330, 'right': 583}}\n",
      "{'type': 'input', 'id': 21, 'label': 'Signature of applicant:', 'location': {'bottom': 712, 'top': 681, 'left': 44, 'right': 329}}\n",
      "{'type': 'input', 'id': 22, 'label': 'Domestic or International student:', 'location': {'bottom': 209, 'top': 190, 'left': 44, 'right': 583}}\n",
      "{'type': 'input', 'id': 23, 'label': 'Program of study:( eg, Bachelor or Master of Visual Arts)', 'location': {'bottom': 190, 'top': 171, 'left': 44, 'right': 583}}\n",
      "{'type': 'input', 'id': 24, 'label': 'Email:', 'location': {'bottom': 171, 'top': 153, 'left': 330, 'right': 583}}\n",
      "{'type': 'input', 'id': 25, 'label': 'Phone:', 'location': {'bottom': 171, 'top': 153, 'left': 175, 'right': 329}}\n",
      "{'type': 'input', 'id': 26, 'label': 'Date of birth:', 'location': {'bottom': 171, 'top': 151, 'left': 44, 'right': 174}}\n",
      "{'type': 'input', 'id': 27, 'label': 'Student ID:', 'location': {'bottom': 152, 'top': 134, 'left': 330, 'right': 583}}\n",
      "{'type': 'input', 'id': 28, 'label': 'Name:', 'location': {'bottom': 152, 'top': 134, 'left': 44, 'right': 329}}\n",
      "{'type': 'input', 'id': 29, 'label': 'current financial situation.', 'location': {'bottom': 622, 'top': 401, 'left': 44, 'right': 583}}\n"
     ]
    }
   ],
   "source": [
    "detect_compos = []\n",
    "for i, c in enumerate(compos):\n",
    "    compo = {'id':i, 'type':c.type, 'location':c.location}\n",
    "    if hasattr(c, 'content') and c.content:\n",
    "        compo['content'] = c.content\n",
    "    if c.type == 'input':\n",
    "        compo['label'] = c.guide_text.content\n",
    "    detect_compos.append(compo)\n",
    "    print(compo)"
   ]
  },
  {
   "cell_type": "code",
   "execution_count": 38,
   "metadata": {},
   "outputs": [],
   "source": [
    "json.dump(detect_compos, open('1.json', 'w'), indent=4)"
   ]
  },
  {
   "cell_type": "code",
   "execution_count": null,
   "metadata": {},
   "outputs": [],
   "source": []
  },
  {
   "cell_type": "code",
   "execution_count": 4,
   "metadata": {},
   "outputs": [],
   "source": [
    "# form.img.visualize_elements_contours(element_opt='rectangle', board_opt='binary')\n",
    "\n",
    "# img = Image('data/input/2.jpg')\n",
    "# img.detect_rectangle_elements()\n",
    "# img.detect_line_elements()\n",
    "# img.visualize_elements_contours(element_opt='all', board_opt='binary')"
   ]
  },
  {
   "cell_type": "code",
   "execution_count": 8,
   "metadata": {},
   "outputs": [],
   "source": [
    "# board = form.get_img_copy()\n",
    "# for text in form.texts:\n",
    "#     text.visualize_element(board)\n",
    "# cv2.imshow('text', board)\n",
    "# cv2.waitKey()\n",
    "# cv2.destroyAllWindows()"
   ]
  },
  {
   "cell_type": "code",
   "execution_count": null,
   "metadata": {},
   "outputs": [],
   "source": [
    "# board = form.get_img_copy()\n",
    "# for s in form.rectangles + form.squares + form.lines:\n",
    "#     s.visualize_element(board)\n",
    "# cv2.imshow('shapes', board)\n",
    "# cv2.waitKey()\n",
    "# cv2.destroyAllWindows()"
   ]
  }
 ],
 "metadata": {
  "kernelspec": {
   "display_name": "Python 3",
   "language": "python",
   "name": "python3"
  },
  "language_info": {
   "codemirror_mode": {
    "name": "ipython",
    "version": 3
   },
   "file_extension": ".py",
   "mimetype": "text/x-python",
   "name": "python",
   "nbconvert_exporter": "python",
   "pygments_lexer": "ipython3",
   "version": "3.5.6"
  }
 },
 "nbformat": 4,
 "nbformat_minor": 2
}
