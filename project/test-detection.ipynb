{
 "cells": [
  {
   "cell_type": "code",
   "execution_count": 1,
   "metadata": {},
   "outputs": [],
   "source": [
    "from detection.Form import Form\n",
    "from detection.Image import Image\n",
    "import cv2\n",
    "import numpy as np"
   ]
  },
  {
   "cell_type": "code",
   "execution_count": 3,
   "metadata": {},
   "outputs": [
    {
     "name": "stdout",
     "output_type": "stream",
     "text": [
      "*** Google OCR Processing Time:1.046 s***\n",
      "*** Element Detection Time:0.237 s***\n"
     ]
    }
   ],
   "source": [
    "# *** 1. Elements detection ***\n",
    "form = Form('data/3.jpg')\n",
    "form.text_detection()\n",
    "form.element_detection()\n",
    "form.assign_element_ids()\n",
    "# form.visualize_all_elements()"
   ]
  },
  {
   "cell_type": "code",
   "execution_count": 4,
   "metadata": {},
   "outputs": [],
   "source": [
    "# *** 2. Special element recognition ***\n",
    "form.textbox_recognition()\n",
    "# form.visualize_all_elements()"
   ]
  },
  {
   "cell_type": "code",
   "execution_count": 5,
   "metadata": {},
   "outputs": [],
   "source": [
    "# *** 3. Units grouping ***\n",
    "form.group_elements_to_units()\n",
    "form.sort_units()\n",
    "# form.visualize_units()"
   ]
  },
  {
   "cell_type": "code",
   "execution_count": 6,
   "metadata": {},
   "outputs": [],
   "source": [
    "# *** 4. Table detection ***\n",
    "form.table_detection()\n",
    "form.table_refine()\n",
    "# form.visualize_all_elements()"
   ]
  },
  {
   "cell_type": "code",
   "execution_count": 7,
   "metadata": {},
   "outputs": [],
   "source": [
    "# *** 5. Input compound ***\n",
    "form.input_compound_recognition()\n",
    "form.input_refine()\n",
    "# form.visualize_inputs()"
   ]
  },
  {
   "cell_type": "code",
   "execution_count": 8,
   "metadata": {},
   "outputs": [],
   "source": [
    "form.visualize_detection_result()"
   ]
  },
  {
   "cell_type": "code",
   "execution_count": null,
   "metadata": {},
   "outputs": [],
   "source": []
  },
  {
   "cell_type": "code",
   "execution_count": 9,
   "metadata": {},
   "outputs": [
    {
     "data": {
      "text/plain": [
       "[<detection.Text.Text at 0x178f8e68080>,\n",
       " <detection.Text.Text at 0x178f8e681d0>,\n",
       " <detection.Text.Text at 0x178f8e68160>,\n",
       " <detection.Text.Text at 0x178f8e68630>,\n",
       " <detection.Text.Text at 0x178f8e687b8>,\n",
       " <detection.Text.Text at 0x178f8e68828>,\n",
       " <detection.Text.Text at 0x178f8e68908>,\n",
       " <detection.Text.Text at 0x178f8e68588>,\n",
       " <detection.Text.Text at 0x178f8e8ca58>,\n",
       " <detection.Text.Text at 0x178f8e8ca90>,\n",
       " <detection.Text.Text at 0x178f8e8cac8>,\n",
       " <detection.Text.Text at 0x178f8e8cbe0>,\n",
       " <detection.Text.Text at 0x178f8e959e8>,\n",
       " <detection.Text.Text at 0x178f8e95cc0>,\n",
       " <detection.Text.Text at 0x178f8e97048>,\n",
       " <detection.Text.Text at 0x178f8e97128>,\n",
       " <detection.Text.Text at 0x178f8e975c0>,\n",
       " <detection.Text.Text at 0x178f8e97828>,\n",
       " <detection.Text.Text at 0x178f8e97940>,\n",
       " <detection.Element.Element at 0x178f8e7bf98>,\n",
       " <detection.Element.Element at 0x178f8e8c048>,\n",
       " <detection.Element.Element at 0x178f8e972b0>,\n",
       " <detection.Element.Element at 0x178f8e97470>,\n",
       " <detection.Element.Element at 0x178f8e97ac8>,\n",
       " <detection.Table.Table at 0x178f8e68278>,\n",
       " <detection.Input.Input at 0x178f8e7b358>,\n",
       " <detection.Input.Input at 0x178f8e680b8>,\n",
       " <detection.Input.Input at 0x178f8e68470>,\n",
       " <detection.Input.Input at 0x178f8e68cc0>,\n",
       " <detection.Input.Input at 0x178f8e68cf8>,\n",
       " <detection.Input.Input at 0x178f8e68d30>,\n",
       " <detection.Input.Input at 0x178f8e68d68>,\n",
       " <detection.Input.Input at 0x178f8e68e10>,\n",
       " <detection.Input.Input at 0x178f8e68e48>,\n",
       " <detection.Input.Input at 0x178f8e68e80>,\n",
       " <detection.Input.Input at 0x178f8e68eb8>,\n",
       " <detection.Input.Input at 0x178f8e68ef0>,\n",
       " <detection.Input.Input at 0x178f8e68f28>,\n",
       " <detection.Input.Input at 0x178f8e68f60>,\n",
       " <detection.Input.Input at 0x178f8e68f98>,\n",
       " <detection.Input.Input at 0x178f8e68fd0>,\n",
       " <detection.Input.Input at 0x178f8e68198>,\n",
       " <detection.Input.Input at 0x178f8e68208>,\n",
       " <detection.Input.Input at 0x178f8e68128>,\n",
       " <detection.Input.Input at 0x178f8e68048>,\n",
       " <detection.Input.Input at 0x178f8e68518>,\n",
       " <detection.Input.Input at 0x178f8e680f0>]"
      ]
     },
     "execution_count": 9,
     "metadata": {},
     "output_type": "execute_result"
    }
   ],
   "source": [
    "form.get_detection_result()"
   ]
  },
  {
   "cell_type": "code",
   "execution_count": null,
   "metadata": {},
   "outputs": [],
   "source": []
  },
  {
   "cell_type": "code",
   "execution_count": null,
   "metadata": {},
   "outputs": [],
   "source": []
  },
  {
   "cell_type": "code",
   "execution_count": null,
   "metadata": {},
   "outputs": [],
   "source": []
  },
  {
   "cell_type": "code",
   "execution_count": 14,
   "metadata": {},
   "outputs": [],
   "source": [
    "board = form.get_img_copy()\n",
    "for unit in form.all_units:\n",
    "    if not unit.is_module_part and not unit.is_abandoned:\n",
    "        unit.visualize_element(board)\n",
    "cv2.imshow('v', board)\n",
    "cv2.waitKey()\n",
    "cv2.destroyWindow('v')"
   ]
  },
  {
   "cell_type": "code",
   "execution_count": 6,
   "metadata": {},
   "outputs": [],
   "source": []
  }
 ],
 "metadata": {
  "kernelspec": {
   "display_name": "Python 3",
   "language": "python",
   "name": "python3"
  },
  "language_info": {
   "codemirror_mode": {
    "name": "ipython",
    "version": 3
   },
   "file_extension": ".py",
   "mimetype": "text/x-python",
   "name": "python",
   "nbconvert_exporter": "python",
   "pygments_lexer": "ipython3",
   "version": "3.5.6"
  }
 },
 "nbformat": 4,
 "nbformat_minor": 2
}
