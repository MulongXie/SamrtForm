{
 "cells": [
  {
   "cell_type": "code",
   "execution_count": 1,
   "metadata": {},
   "outputs": [],
   "source": [
    "from detection.Form import Form\n",
    "from detection.Image import Image\n",
    "import cv2\n",
    "import numpy as np"
   ]
  },
  {
   "cell_type": "code",
   "execution_count": 9,
   "metadata": {},
   "outputs": [
    {
     "name": "stdout",
     "output_type": "stream",
     "text": [
      "*** Google OCR Processing Time:1.907 s***\n",
      "*** Element Detection Time:0.122 s***\n"
     ]
    }
   ],
   "source": [
    "# *** 1. Form structure recognition ***\n",
    "form = Form('data/input/11.jpg', resize_height=900)\n",
    "form.text_detection()\n",
    "form.element_detection()\n",
    "form.visualize_all_elements()"
   ]
  },
  {
   "cell_type": "code",
   "execution_count": 10,
   "metadata": {},
   "outputs": [],
   "source": [
    "# *** 2. Basic element noise removal ***\n",
    "form.filter_detection_noises()\n",
    "form.text_sentences_recognition()\n",
    "form.shrink_text_and_filter_noises()\n",
    "form.assign_element_ids()\n",
    "form.visualize_all_elements()"
   ]
  },
  {
   "cell_type": "code",
   "execution_count": 11,
   "metadata": {},
   "outputs": [],
   "source": [
    "# *** 3. Special element recognition ***\n",
    "form.border_and_textbox_recognition()\n",
    "# form.visualize_all_elements()\n",
    "form.character_box_recognition()\n",
    "form.visualize_all_elements()"
   ]
  },
  {
   "cell_type": "code",
   "execution_count": 12,
   "metadata": {},
   "outputs": [],
   "source": [
    "# *** 4. Units labelling ***\n",
    "form.label_elements_as_units()\n",
    "form.sort_units()\n",
    "form.border_line_recognition()\n",
    "form.visualize_units()"
   ]
  },
  {
   "cell_type": "code",
   "execution_count": 13,
   "metadata": {},
   "outputs": [
    {
     "name": "stdout",
     "output_type": "stream",
     "text": [
      "*** The form is vertical alignment with vertical separators: [{'right': 322, 'top': 60, 'bottom': 899, 'left': 314}] ***\n"
     ]
    }
   ],
   "source": [
    "# *** 5. Form structure recognition ***\n",
    "form.check_vertical_aligned_form()\n",
    "form.visualize_vertical_separators()\n",
    "form.group_units_by_separators()\n",
    "form.visualize_unit_groups()"
   ]
  },
  {
   "cell_type": "code",
   "execution_count": null,
   "metadata": {},
   "outputs": [],
   "source": []
  },
  {
   "cell_type": "code",
   "execution_count": 7,
   "metadata": {},
   "outputs": [],
   "source": [
    "# *** 6. Table obj ***\n",
    "form.table_detection()\n",
    "# form.visualize_all_elements()\n",
    "form.table_refine()\n",
    "form.visualize_all_elements()"
   ]
  },
  {
   "cell_type": "code",
   "execution_count": 8,
   "metadata": {},
   "outputs": [],
   "source": [
    "# *** 7. Input compound recognition ***\n",
    "form.input_compound_recognition()\n",
    "form.visualize_detection_result()\n",
    "form.input_refine()\n",
    "# form.visualize_inputs()\n",
    "form.text_refine()\n",
    "form.visualize_detection_result()"
   ]
  },
  {
   "cell_type": "code",
   "execution_count": null,
   "metadata": {},
   "outputs": [],
   "source": []
  },
  {
   "cell_type": "code",
   "execution_count": 13,
   "metadata": {},
   "outputs": [
    {
     "name": "stdout",
     "output_type": "stream",
     "text": [
      "Uni ID ['Uni', 'ID'] False\n",
      "Name of Delegate ['Name', 'of', 'Delegate'] False\n",
      "Part E: DELEGATE APPROVAL\n",
      "( It is the responsibility of the Delegare zo ensure they have Financial Delegation ID 220 and the appropriate limit.) ['Part', 'E:', 'DELEGATE', 'APPROVAL', '(', 'It', 'is', 'the', 'responsibility', 'of', 'the', 'Delegare', 'zo', 'ensure', 'they', 'have', 'Financial', 'Delegation', 'ID', '220', 'and', 'the', 'appropriate', 'limit.)'] False\n",
      "Additional information required for foreign bank accounts ['Additional', 'information', 'required', 'for', 'foreign', 'bank', 'accounts'] False\n",
      "Former Students& Visitors MUST provide your current bank account information below Current Staff& Students should log onto HORUS/ ISIS to update their account detalls ['Former', 'Students&', 'Visitors', 'MUST', 'provide', 'your', 'current', 'bank', 'account', 'information', 'below', 'Current', 'Staff&', 'Students', 'should', 'log', 'onto', 'HORUS/', 'ISIS', 'to', 'update', 'their', 'account', 'detalls'] False\n",
      "$ 0.00 ['$', '0.00'] False\n",
      "TOTAL AMOUNT AUD ['TOTAL', 'AMOUNT', 'AUD'] False\n",
      "Total AUD incl GST ['Total', 'AUD', 'incl', 'GST'] False\n",
      "Description of Item Purchased ['Description', 'of', 'Item', 'Purchased'] False\n",
      "Charge Code ['Charge', 'Code'] False\n",
      "Person of Interest/ Visitor/ Other ['Person', 'of', 'Interest/', 'Visitor/', 'Other'] False\n",
      "Pay group( select one) ['Pay', 'group(', 'select', 'one)'] False\n",
      "Non- ANU address ['Non-', 'ANU', 'address'] False\n",
      "Related Travel Request ID ['Related', 'Travel', 'Request', 'ID'] False\n",
      "Phone ['Phone'] False\n",
      "Business Unit ['Business', 'Unit'] False\n",
      "Vendor/ Uni ID ['Vendor/', 'Uni', 'ID'] False\n",
      "First Name ['First', 'Name'] False\n",
      "Family Name ['Family', 'Name'] False\n",
      "University Australian National\n",
      "EXPENSE REIMBURSEMENT FORM\n",
      "Enquiries:( 02) 6125 4777 Send completed form to invoice.workflow@ anu.edu.au Finance& Business Services, Bldg 10c ['University', 'Australian', 'National', 'EXPENSE', 'REIMBURSEMENT', 'FORM', 'Enquiries:(', '02)', '6125', '4777', 'Send', 'completed', 'form', 'to', 'invoice.workflow@', 'anu.edu.au', 'Finance&', 'Business', 'Services,', 'Bldg', '10c'] False\n"
     ]
    }
   ],
   "source": [
    "section_keywords = {'part', 'section'}\n",
    "for text in form.text_units:\n",
    "    if text.type == 'textbox':\n",
    "        print(text.content, text.content.split(), text.is_text_contain_words(section_keywords))"
   ]
  },
  {
   "cell_type": "code",
   "execution_count": 11,
   "metadata": {},
   "outputs": [],
   "source": [
    "for text in form.text_units:\n",
    "    if text.type == 'textbox':\n",
    "        text.visualize_element(form.get_img_copy(), show=True)"
   ]
  },
  {
   "cell_type": "code",
   "execution_count": null,
   "metadata": {},
   "outputs": [],
   "source": []
  },
  {
   "cell_type": "code",
   "execution_count": 8,
   "metadata": {},
   "outputs": [],
   "source": [
    "# *** 8. Export ***\n",
    "# form.export_detection_result_img()"
   ]
  },
  {
   "cell_type": "code",
   "execution_count": 4,
   "metadata": {},
   "outputs": [],
   "source": [
    "# form.img.visualize_elements_contours(element_opt='rectangle', board_opt='binary')\n",
    "\n",
    "# img = Image('data/input/2.jpg')\n",
    "# img.detect_rectangle_elements()\n",
    "# img.detect_line_elements()\n",
    "# img.visualize_elements_contours(element_opt='all', board_opt='binary')"
   ]
  },
  {
   "cell_type": "code",
   "execution_count": 8,
   "metadata": {},
   "outputs": [],
   "source": [
    "# board = form.get_img_copy()\n",
    "# for text in form.texts:\n",
    "#     text.visualize_element(board)\n",
    "# cv2.imshow('text', board)\n",
    "# cv2.waitKey()\n",
    "# cv2.destroyAllWindows()"
   ]
  },
  {
   "cell_type": "code",
   "execution_count": null,
   "metadata": {},
   "outputs": [],
   "source": [
    "# board = form.get_img_copy()\n",
    "# for s in form.rectangles + form.squares + form.lines:\n",
    "#     s.visualize_element(board)\n",
    "# cv2.imshow('shapes', board)\n",
    "# cv2.waitKey()\n",
    "# cv2.destroyAllWindows()"
   ]
  }
 ],
 "metadata": {
  "kernelspec": {
   "display_name": "Python 3",
   "language": "python",
   "name": "python3"
  },
  "language_info": {
   "codemirror_mode": {
    "name": "ipython",
    "version": 3
   },
   "file_extension": ".py",
   "mimetype": "text/x-python",
   "name": "python",
   "nbconvert_exporter": "python",
   "pygments_lexer": "ipython3",
   "version": "3.5.6"
  }
 },
 "nbformat": 4,
 "nbformat_minor": 2
}
