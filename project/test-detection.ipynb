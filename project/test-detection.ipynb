{
 "cells": [
  {
   "cell_type": "code",
   "execution_count": 1,
   "metadata": {},
   "outputs": [],
   "source": [
    "from detection.Form import Form\n",
    "from detection.Image import Image\n",
    "import cv2\n",
    "import numpy as np"
   ]
  },
  {
   "cell_type": "code",
   "execution_count": 2,
   "metadata": {},
   "outputs": [
    {
     "name": "stdout",
     "output_type": "stream",
     "text": [
      "*** Google OCR Processing Time:2.388 s***\n",
      "*** Element Detection Time:0.137 s***\n"
     ]
    }
   ],
   "source": [
    "# *** 1. Form structure recognition ***\n",
    "form = Form('data/input/1.jpg')\n",
    "form.text_detection()\n",
    "form.element_detection()\n",
    "form.visualize_all_elements()"
   ]
  },
  {
   "cell_type": "code",
   "execution_count": 3,
   "metadata": {},
   "outputs": [],
   "source": [
    "# *** 2. Basic element noise removal ***\n",
    "form.filter_detection_noises()\n",
    "form.text_sentences_recognition()\n",
    "form.shrink_text_and_filter_noises()\n",
    "form.assign_element_ids()\n",
    "form.visualize_all_elements()"
   ]
  },
  {
   "cell_type": "code",
   "execution_count": 4,
   "metadata": {},
   "outputs": [],
   "source": [
    "# *** 3. Special element recognition ***\n",
    "form.border_and_textbox_recognition()\n",
    "# form.visualize_all_elements()\n",
    "form.character_box_recognition()\n",
    "form.visualize_all_elements()"
   ]
  },
  {
   "cell_type": "code",
   "execution_count": 5,
   "metadata": {},
   "outputs": [],
   "source": [
    "# *** 4. Units labelling ***\n",
    "form.label_elements_as_units()\n",
    "form.sort_units()\n",
    "form.border_line_recognition()\n",
    "form.visualize_units()"
   ]
  },
  {
   "cell_type": "code",
   "execution_count": 6,
   "metadata": {},
   "outputs": [
    {
     "name": "stdout",
     "output_type": "stream",
     "text": [
      "*** The form is not vertical alignment ***\n"
     ]
    }
   ],
   "source": [
    "# *** 5. Form structure recognition ***\n",
    "form.check_vertical_aligned_form()\n",
    "# form.visualize_vertical_separators()\n",
    "form.group_units_by_separators()\n",
    "# form.visualize_unit_groups()"
   ]
  },
  {
   "cell_type": "code",
   "execution_count": 7,
   "metadata": {},
   "outputs": [],
   "source": [
    "# *** 6. Table obj ***\n",
    "form.table_detection()\n",
    "# form.visualize_all_elements()\n",
    "form.table_refine()\n",
    "form.visualize_all_elements()"
   ]
  },
  {
   "cell_type": "code",
   "execution_count": 8,
   "metadata": {},
   "outputs": [],
   "source": [
    "# *** 7. Input compound recognition ***\n",
    "form.input_compound_recognition()\n",
    "form.visualize_detection_result()\n",
    "form.input_refine()\n",
    "# form.visualize_inputs()\n",
    "form.text_refine()\n",
    "form.visualize_detection_result()"
   ]
  },
  {
   "cell_type": "code",
   "execution_count": null,
   "metadata": {},
   "outputs": [],
   "source": []
  },
  {
   "cell_type": "code",
   "execution_count": 8,
   "metadata": {},
   "outputs": [],
   "source": [
    "# *** 8. Export ***\n",
    "# form.export_detection_result_img()"
   ]
  },
  {
   "cell_type": "code",
   "execution_count": 4,
   "metadata": {},
   "outputs": [],
   "source": [
    "# form.img.visualize_elements_contours(element_opt='rectangle', board_opt='binary')\n",
    "\n",
    "# img = Image('data/input/2.jpg')\n",
    "# img.detect_rectangle_elements()\n",
    "# img.detect_line_elements()\n",
    "# img.visualize_elements_contours(element_opt='all', board_opt='binary')"
   ]
  },
  {
   "cell_type": "code",
   "execution_count": 8,
   "metadata": {},
   "outputs": [],
   "source": [
    "# board = form.get_img_copy()\n",
    "# for text in form.texts:\n",
    "#     text.visualize_element(board)\n",
    "# cv2.imshow('text', board)\n",
    "# cv2.waitKey()\n",
    "# cv2.destroyAllWindows()"
   ]
  },
  {
   "cell_type": "code",
   "execution_count": null,
   "metadata": {},
   "outputs": [],
   "source": [
    "# board = form.get_img_copy()\n",
    "# for s in form.rectangles + form.squares + form.lines:\n",
    "#     s.visualize_element(board)\n",
    "# cv2.imshow('shapes', board)\n",
    "# cv2.waitKey()\n",
    "# cv2.destroyAllWindows()"
   ]
  }
 ],
 "metadata": {
  "kernelspec": {
   "display_name": "Python 3",
   "language": "python",
   "name": "python3"
  },
  "language_info": {
   "codemirror_mode": {
    "name": "ipython",
    "version": 3
   },
   "file_extension": ".py",
   "mimetype": "text/x-python",
   "name": "python",
   "nbconvert_exporter": "python",
   "pygments_lexer": "ipython3",
   "version": "3.5.6"
  }
 },
 "nbformat": 4,
 "nbformat_minor": 2
}
