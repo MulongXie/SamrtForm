{
 "cells": [
  {
   "cell_type": "code",
   "execution_count": 1,
   "metadata": {},
   "outputs": [],
   "source": [
    "from obj.Form import Form\n",
    "from obj.Image import Image\n",
    "from obj.Row import Row\n",
    "import cv2"
   ]
  },
  {
   "cell_type": "code",
   "execution_count": 3,
   "metadata": {},
   "outputs": [
    {
     "name": "stdout",
     "output_type": "stream",
     "text": [
      "*** Google OCR Processing Time:1.182 s***\n",
      "*** Element Detection Time:0.253 s***\n"
     ]
    }
   ],
   "source": [
    "# *** 1. Elements detection ***\n",
    "form = Form('data/3.jpg')\n",
    "form.text_detection()\n",
    "form.element_detection()\n",
    "form.assign_element_ids()\n",
    "form.visualize_all_elements()"
   ]
  },
  {
   "cell_type": "code",
   "execution_count": 4,
   "metadata": {},
   "outputs": [],
   "source": [
    "# *** 2. Special element recognition ***\n",
    "form.textbox_recognition()\n",
    "form.visualize_all_elements()"
   ]
  },
  {
   "cell_type": "code",
   "execution_count": 5,
   "metadata": {},
   "outputs": [],
   "source": [
    "# *** 3. Units grouping ***\n",
    "form.group_elements_to_units()\n",
    "form.sort_units()\n",
    "form.visualize_units()"
   ]
  },
  {
   "cell_type": "code",
   "execution_count": 6,
   "metadata": {},
   "outputs": [],
   "source": [
    "# *** 4. Table detection ***\n",
    "form.table_detection()\n",
    "form.table_refine()\n",
    "form.visualize_all_elements()"
   ]
  },
  {
   "cell_type": "code",
   "execution_count": 7,
   "metadata": {},
   "outputs": [],
   "source": [
    "# *** 5. Input compound ***\n",
    "form.input_compound_recognition()\n",
    "form.visualize_inputs()"
   ]
  },
  {
   "cell_type": "code",
   "execution_count": null,
   "metadata": {},
   "outputs": [],
   "source": []
  },
  {
   "cell_type": "code",
   "execution_count": null,
   "metadata": {},
   "outputs": [],
   "source": []
  },
  {
   "cell_type": "code",
   "execution_count": null,
   "metadata": {},
   "outputs": [],
   "source": []
  },
  {
   "cell_type": "code",
   "execution_count": 6,
   "metadata": {},
   "outputs": [],
   "source": []
  }
 ],
 "metadata": {
  "kernelspec": {
   "display_name": "Python 3",
   "language": "python",
   "name": "python3"
  },
  "language_info": {
   "codemirror_mode": {
    "name": "ipython",
    "version": 3
   },
   "file_extension": ".py",
   "mimetype": "text/x-python",
   "name": "python",
   "nbconvert_exporter": "python",
   "pygments_lexer": "ipython3",
   "version": "3.5.6"
  }
 },
 "nbformat": 4,
 "nbformat_minor": 2
}
