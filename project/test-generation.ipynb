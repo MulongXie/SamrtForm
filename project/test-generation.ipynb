{
 "cells": [
  {
   "cell_type": "code",
   "execution_count": 1,
   "metadata": {},
   "outputs": [],
   "source": [
    "from detection.Form import *\n",
    "from generation.Generator import Generator"
   ]
  },
  {
   "cell_type": "code",
   "execution_count": 2,
   "metadata": {
    "scrolled": true
   },
   "outputs": [
    {
     "name": "stdout",
     "output_type": "stream",
     "text": [
      "*** Google OCR Processing Time:3.489 s***\n",
      "*** Element Detection Time:0.231 s***\n",
      "*** The form is not vertical alignment ***\n",
      "Write to: data/output/3\\3.jpg\n"
     ]
    }
   ],
   "source": [
    "form = form_compo_detection('data/input/3.jpg')\n",
    "form.visualize_detection_result()"
   ]
  },
  {
   "cell_type": "code",
   "execution_count": 3,
   "metadata": {},
   "outputs": [],
   "source": [
    "gen = Generator(form)\n",
    "gen.init_html_compos()\n",
    "gen.group_html_compos_by_unit_group_id()\n",
    "gen.slice_block_by_group()\n",
    "# gen.visualize_blocks()\n",
    "# gen.visualize_sections()\n",
    "# gen.visualize_compos_groups()\n",
    "# gen.init_page_html(by='block')\n",
    "gen.init_page()\n",
    "html, css = gen.export_page()"
   ]
  },
  {
   "cell_type": "code",
   "execution_count": null,
   "metadata": {},
   "outputs": [],
   "source": []
  }
 ],
 "metadata": {
  "kernelspec": {
   "display_name": "Python 3",
   "language": "python",
   "name": "python3"
  },
  "language_info": {
   "codemirror_mode": {
    "name": "ipython",
    "version": 3
   },
   "file_extension": ".py",
   "mimetype": "text/x-python",
   "name": "python",
   "nbconvert_exporter": "python",
   "pygments_lexer": "ipython3",
   "version": "3.5.6"
  }
 },
 "nbformat": 4,
 "nbformat_minor": 2
}
