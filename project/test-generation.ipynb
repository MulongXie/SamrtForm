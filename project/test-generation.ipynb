{
 "cells": [
  {
   "cell_type": "code",
   "execution_count": 1,
   "metadata": {},
   "outputs": [],
   "source": [
    "from detection.Form import *\n",
    "from generation.Generator import Generator"
   ]
  },
  {
   "cell_type": "code",
   "execution_count": 2,
   "metadata": {
    "scrolled": false
   },
   "outputs": [
    {
     "name": "stdout",
     "output_type": "stream",
     "text": [
      "*** Google OCR Processing Time:3.166 s***\n",
      "*** Element Detection Time:0.123 s***\n",
      "*** The form is vertical alignment with vertical separators: [{'right': 322, 'bottom': 899, 'top': 60, 'left': 314}] ***\n",
      "Write to: data/output/11\\11.jpg\n"
     ]
    }
   ],
   "source": [
    "form = form_compo_detection('data/input/11.jpg')\n",
    "form.visualize_detection_result()"
   ]
  },
  {
   "cell_type": "code",
   "execution_count": 4,
   "metadata": {},
   "outputs": [],
   "source": [
    "gen = Generator(form)\n",
    "gen.init_html_compos()\n",
    "gen.group_html_compos_by_unit_group_id()\n",
    "gen.slice_block_by_group()\n",
    "# gen.visualize_blocks()\n",
    "# gen.visualize_sections()\n",
    "# gen.visualize_compos_groups()\n",
    "# gen.init_page_html(by='block')\n",
    "gen.init_page()\n",
    "html, css = gen.export_page()"
   ]
  },
  {
   "cell_type": "code",
   "execution_count": null,
   "metadata": {},
   "outputs": [],
   "source": []
  },
  {
   "cell_type": "code",
   "execution_count": 5,
   "metadata": {},
   "outputs": [
    {
     "data": {
      "text/plain": [
       "{0: [<generation.HTMLCompo.HTMLCompo at 0x1f2f64e3b38>],\n",
       " 1: [<generation.HTMLCompo.HTMLCompo at 0x1f2f64d6ac8>,\n",
       "  <generation.HTMLCompo.HTMLCompo at 0x1f2f64d6a90>,\n",
       "  <generation.HTMLCompo.HTMLCompo at 0x1f2f64dde80>,\n",
       "  <generation.HTMLCompo.HTMLCompo at 0x1f2f64d68d0>,\n",
       "  <generation.HTMLCompo.HTMLCompo at 0x1f2f64d6e48>,\n",
       "  <generation.HTMLCompo.HTMLCompo at 0x1f2f64d6d68>,\n",
       "  <generation.HTMLCompo.HTMLCompo at 0x1f2f64d62e8>,\n",
       "  <generation.HTMLCompo.HTMLCompo at 0x1f2f64d9fd0>,\n",
       "  <generation.HTMLCompo.HTMLCompo at 0x1f2f64d9128>,\n",
       "  <generation.HTMLCompo.HTMLCompo at 0x1f2f64d9198>,\n",
       "  <generation.HTMLCompo.HTMLCompo at 0x1f2f64d7240>,\n",
       "  <generation.HTMLCompo.HTMLCompo at 0x1f2f64ddc18>,\n",
       "  <generation.HTMLCompo.HTMLCompo at 0x1f2f64d9cf8>,\n",
       "  <generation.HTMLCompo.HTMLCompo at 0x1f2f64d9d68>,\n",
       "  <generation.HTMLCompo.HTMLCompo at 0x1f2f64d9dd8>,\n",
       "  <generation.HTMLCompo.HTMLCompo at 0x1f2f64d74e0>,\n",
       "  <generation.HTMLCompo.HTMLCompo at 0x1f2f64d7b00>,\n",
       "  <generation.HTMLCompo.HTMLCompo at 0x1f2f5230f60>,\n",
       "  <generation.HTMLCompo.HTMLCompo at 0x1f2f64d7ba8>,\n",
       "  <generation.HTMLCompo.HTMLCompo at 0x1f2f64d79e8>,\n",
       "  <generation.HTMLCompo.HTMLCompo at 0x1f2f64d7ac8>,\n",
       "  <generation.HTMLCompo.HTMLCompo at 0x1f2f64d7a58>,\n",
       "  <generation.HTMLCompo.HTMLCompo at 0x1f2f64d7978>,\n",
       "  <generation.HTMLCompo.HTMLCompo at 0x1f2f64d77f0>,\n",
       "  <generation.HTMLCompo.HTMLCompo at 0x1f2f64d7710>,\n",
       "  <generation.HTMLCompo.HTMLCompo at 0x1f2f64d7550>,\n",
       "  <generation.HTMLCompo.HTMLCompo at 0x1f2f64d75f8>,\n",
       "  <generation.HTMLCompo.HTMLCompo at 0x1f2f64d74a8>,\n",
       "  <generation.HTMLCompo.HTMLCompo at 0x1f2f64d7400>,\n",
       "  <generation.HTMLCompo.HTMLCompo at 0x1f2f64d72e8>,\n",
       "  <generation.HTMLCompo.HTMLCompo at 0x1f2f64d7198>,\n",
       "  <generation.HTMLCompo.HTMLCompo at 0x1f2f64d7358>,\n",
       "  <generation.HTMLCompo.HTMLCompo at 0x1f2f64d76d8>,\n",
       "  <generation.HTMLCompo.HTMLCompo at 0x1f2f64ddda0>,\n",
       "  <generation.HTMLCompo.HTMLCompo at 0x1f2f64dd438>,\n",
       "  <generation.HTMLCompo.HTMLCompo at 0x1f2f64dd6d8>,\n",
       "  <generation.HTMLCompo.HTMLCompo at 0x1f2f64d7f60>,\n",
       "  <generation.HTMLCompo.HTMLCompo at 0x1f2f64d7748>,\n",
       "  <generation.HTMLCompo.HTMLCompo at 0x1f2f64dd7f0>,\n",
       "  <generation.HTMLCompo.HTMLCompo at 0x1f2f64dd240>,\n",
       "  <generation.HTMLCompo.HTMLCompo at 0x1f2f64d71d0>,\n",
       "  <generation.HTMLCompo.HTMLCompo at 0x1f2f64d7be0>,\n",
       "  <generation.HTMLCompo.HTMLCompo at 0x1f2f64dd978>,\n",
       "  <generation.HTMLCompo.HTMLCompo at 0x1f2f64dd278>,\n",
       "  <generation.HTMLCompo.HTMLCompo at 0x1f2f64ddf98>],\n",
       " 2: [<generation.HTMLCompo.HTMLCompo at 0x1f2f64ddcf8>,\n",
       "  <generation.HTMLCompo.HTMLCompo at 0x1f2f64d9e48>,\n",
       "  <generation.HTMLCompo.HTMLCompo at 0x1f2f64d9f60>,\n",
       "  <generation.HTMLCompo.HTMLCompo at 0x1f2f64d6748>,\n",
       "  <generation.HTMLCompo.HTMLCompo at 0x1f2f64d7048>,\n",
       "  <generation.HTMLCompo.HTMLCompo at 0x1f2f64d7da0>,\n",
       "  <generation.HTMLCompo.HTMLCompo at 0x1f2f64d7eb8>,\n",
       "  <generation.HTMLCompo.HTMLCompo at 0x1f2f5a2dd68>,\n",
       "  <generation.HTMLCompo.HTMLCompo at 0x1f2f64d7c50>,\n",
       "  <generation.HTMLCompo.HTMLCompo at 0x1f2f64d7d30>,\n",
       "  <generation.HTMLCompo.HTMLCompo at 0x1f2f5a2df28>,\n",
       "  <generation.HTMLCompo.HTMLCompo at 0x1f2f64dd128>,\n",
       "  <generation.HTMLCompo.HTMLCompo at 0x1f2f5a2de80>,\n",
       "  <generation.HTMLCompo.HTMLCompo at 0x1f2f5a2de10>,\n",
       "  <generation.HTMLCompo.HTMLCompo at 0x1f2f64d7908>,\n",
       "  <generation.HTMLCompo.HTMLCompo at 0x1f2f64d7898>,\n",
       "  <generation.HTMLCompo.HTMLCompo at 0x1f2f64dd4a8>,\n",
       "  <generation.HTMLCompo.HTMLCompo at 0x1f2f64dd2e8>,\n",
       "  <generation.HTMLCompo.HTMLCompo at 0x1f2f64dd8d0>,\n",
       "  <generation.HTMLCompo.HTMLCompo at 0x1f2f64d7dd8>,\n",
       "  <generation.HTMLCompo.HTMLCompo at 0x1f2f64d7080>,\n",
       "  <generation.HTMLCompo.HTMLCompo at 0x1f2f64dd0f0>,\n",
       "  <generation.HTMLCompo.HTMLCompo at 0x1f2f64dd080>,\n",
       "  <generation.HTMLCompo.HTMLCompo at 0x1f2f64dda58>]}"
      ]
     },
     "execution_count": 5,
     "metadata": {},
     "output_type": "execute_result"
    }
   ],
   "source": [
    "gen.html_compos_groups"
   ]
  },
  {
   "cell_type": "code",
   "execution_count": null,
   "metadata": {},
   "outputs": [],
   "source": []
  },
  {
   "cell_type": "code",
   "execution_count": null,
   "metadata": {},
   "outputs": [],
   "source": []
  },
  {
   "cell_type": "code",
   "execution_count": 6,
   "metadata": {},
   "outputs": [],
   "source": [
    "# for compo in gen.html_compos:\n",
    "#     if compo.type == 'input':\n",
    "#         text_loc = compo.element.guide_text.location\n",
    "#         ipt_loc = compo.location\n",
    "#         if compo.element.is_embedded:\n",
    "#             top_gap = text_loc['top'] - ipt_loc['top']\n",
    "#             bottom_gap = ipt_loc['bottom'] - text_loc['bottom']\n",
    "#             # the text is at the left\n",
    "#             if abs(top_gap - bottom_gap) <= 10:\n",
    "#                 blank_space = {'top':ipt_loc['top'], 'bottom':ipt_loc['bottom'], 'left':text_loc['right'] + 5, 'right':ipt_loc['right']}\n",
    "#             else:\n",
    "#                 # the text is at the upper half\n",
    "#                 if top_gap < bottom_gap:\n",
    "#                     blank_space = {'top':text_loc['bottom'], 'left':ipt_loc['left'], 'right':ipt_loc['right'], 'bottom':ipt_loc['bottom']}\n",
    "#                 else:\n",
    "#                     blank_space = {'top':ipt_loc['bottom'], 'left':ipt_loc['left'], 'right':ipt_loc['right'], 'bottom':text_loc['top']}\n",
    "\n",
    "#         print(text_loc, ipt_loc, text_loc == ipt_loc)\n",
    "#         board = form.get_img_copy()\n",
    "#         cv2.rectangle(board, (blank_space['left'], blank_space['top']), (blank_space['right'], blank_space['bottom']), (0,255,0), 2)\n",
    "#         cv2.imshow('blank', board)\n",
    "#         cv2.waitKey()\n",
    "#         cv2.destroyAllWindows()"
   ]
  }
 ],
 "metadata": {
  "kernelspec": {
   "display_name": "Python 3",
   "language": "python",
   "name": "python3"
  },
  "language_info": {
   "codemirror_mode": {
    "name": "ipython",
    "version": 3
   },
   "file_extension": ".py",
   "mimetype": "text/x-python",
   "name": "python",
   "nbconvert_exporter": "python",
   "pygments_lexer": "ipython3",
   "version": "3.5.6"
  }
 },
 "nbformat": 4,
 "nbformat_minor": 2
}
