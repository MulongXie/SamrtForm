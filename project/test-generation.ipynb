{
 "cells": [
  {
   "cell_type": "code",
   "execution_count": 1,
   "metadata": {},
   "outputs": [],
   "source": [
    "from detection.Form import *\n",
    "from generation.Generator import Generator"
   ]
  },
  {
   "cell_type": "code",
   "execution_count": 2,
   "metadata": {
    "scrolled": true
   },
   "outputs": [
    {
     "name": "stdout",
     "output_type": "stream",
     "text": [
      "*** Google OCR Processing Time:2.870 s***\n",
      "*** Element Detection Time:0.075 s***\n",
      "*** The form is vertical alignment with vertical separators: [{'left': 298, 'right': 328, 'top': 121, 'bottom': 891}] ***\n"
     ]
    }
   ],
   "source": [
    "form = form_compo_detection('data/input/2.jpg')\n",
    "form.visualize_detection_result()"
   ]
  },
  {
   "cell_type": "code",
   "execution_count": 5,
   "metadata": {},
   "outputs": [],
   "source": [
    "gen = Generator(form)\n",
    "gen.init_html_compos()\n",
    "gen.group_html_compos_by_unit_group_id()\n",
    "gen.slice_block_by_group()\n",
    "# gen.visualize_blocks()\n",
    "# gen.visualize_sections()\n",
    "# gen.visualize_compos_groups()\n",
    "# gen.init_page_html(by='block')\n",
    "gen.init_page()\n",
    "html, css = gen.export_page()"
   ]
  },
  {
   "cell_type": "code",
   "execution_count": 15,
   "metadata": {},
   "outputs": [
    {
     "data": {
      "text/plain": [
       "'<!DOCTYPE html>\\n<html>\\n<head>\\n\\t<title>Title</title>\\n\\t<link rel=\"stylesheet\" href=\"xml.css\">\\n</head>\\n<body>\\n<div id=\"blk-0\" class=\"section-wrapper\">\\n\\t<div id=\"blk-1\" class=\"content input-wrapper\" style=\"display:flex;\">\\n\\t\\t<label for=\"input-57\">Australian Government</label>\\n\\t\\t<input type=\"text\" id=\"input-57\"\"><br>\\n\\t\\t<p id=\"p-0\">Department of Immigration</br>and Border Protection</p>\\n\\t\\t<label for=\"input-41\">Form\\n\\t\\tAdditional personal particulars\\n\\t\\tinformation\\n\\t\\t1221</label>\\n\\t\\t<input type=\"text\" id=\"input-41\"\"><br>\\n\\t</div>\\n\\t<div id=\"blk-2\" class=\"text-wrapper content\" style=\"display:flex;\">\\n\\t\\t<div class=\"border-line\">\\n\\t\\t</div>\\n\\t</div>\\n\\t<div id=\"blk-4\" class=\"text-wrapper content\" style=\"display:flex;\">\\n\\t\\t<p id=\"p-6\">About this form</p>\\n\\t</div>\\n\\t<div id=\"blk-5\" class=\"text-wrapper content\" style=\"display:flex;\">\\n\\t\\t<p id=\"p-7\">This is a supplementary form required to support your visa</br>application and is to be completed by all applicants who are</br>18 years of age or over</p>\\n\\t</div>\\n\\t<div id=\"blk-6\" class=\"text-wrapper content\" style=\"display:flex;\">\\n\\t\\t<p id=\"p-8\">Important- Please read this Information carefully before you</br>complete this form. Once you have completed this form we</br>strongly advise that you keep a copy for your records.</p>\\n\\t</div>\\n\\t<div id=\"blk-7\" class=\"text-wrapper content\" style=\"display:flex;\">\\n\\t\\t<p id=\"p-9\">Integrity of application</p>\\n\\t</div>\\n\\t<div id=\"blk-8\" class=\"text-wrapper content\" style=\"display:flex;\">\\n\\t\\t<p id=\"p-10\">The Department of Immigration and Border Protection</br>( the department) is committed to maintaining the Integrity of</br>the visa and citizenship programs. Please be aware that if you</br>provide us with fraudulent documents or claims, this may result</br>in processing delays and possibly your application being refused.</p>\\n\\t</div>\\n\\t<div id=\"blk-9\" class=\"text-wrapper content\" style=\"display:flex;\">\\n\\t\\t<p id=\"p-11\">Important information about privacy</p>\\n\\t</div>\\n\\t<div id=\"blk-10\" class=\"text-wrapper content\" style=\"display:flex;\">\\n\\t\\t<p id=\"p-12\">Your personal information is protected by law, including the</br>Privacy Act 1988. Important information about the collection,</br>use and disclosure to other agencies and third parties,</br>Including overseas entitles) of your personal Information,</br>Including sensitive Information, is contained in form 14421</br>Privacy notice. Form 14421 is available from the department\\'s</br>website www.border.gov.au/allforms/ or offices of the</br>department. You should ensure that you read and understand</br>form 14421 before completing this form.</p>\\n\\t</div>\\n\\t<div id=\"blk-11\" class=\"text-wrapper content\" style=\"display:flex;\">\\n\\t\\t<div class=\"border-line\">\\n\\t\\t</div>\\n\\t\\t<p id=\"p-24\">General</br>enquiry line</p>\\n\\t\\t<p id=\"p-22\">Home page</p>\\n\\t\\t<p id=\"p-25\">Tolophone 131 881 during business hours</br>in Australia to speak to an operator( recorded</br>information available outside these hours).</br>If you are outside Australia, please contact</br>your nearest Australian mission.</p>\\n\\t\\t<p id=\"p-23\">www.border.gov.au</p>\\n\\t</div>\\n\\t<div id=\"blk-13\" class=\"text-wrapper content\" style=\"display:flex;\">\\n\\t\\t<p id=\"p-1\">Please use a pan, and write neatly in English using BLOCK LETTERS.</p>\\n\\t</div>\\n\\t<div id=\"blk-14\" class=\"text-wrapper content\" style=\"display:flex;\">\\n\\t\\t<p id=\"p-2\">Tick where applicable</p>\\n\\t</div>\\n</div>\\n<div id=\"blk-16\" class=\"section-wrapper\">\\n\\t<div id=\"blk-15\" class=\" section-title\">\\n\\t\\t<p id=\"p-3\">Part 1- Your details</p>\\n\\t</div>\\n\\t<div id=\"blk-17\" class=\"text-wrapper content\">\\n\\t\\t<p id=\"p-4\">1</p>\\n\\t\\t<p id=\"p-5\">Your full name</br>( as shown in your passport or travel document)</p>\\n\\t</div>\\n\\t<div id=\"blk-18\" class=\"content input-wrapper\">\\n\\t\\t<label for=\"input-44\">Family name</label>\\n\\t\\t<input type=\"text\" id=\"input-44\"\"><br>\\n\\t</div>\\n\\t<div id=\"blk-19\" class=\"content input-wrapper\">\\n\\t\\t<label for=\"input-45\">Given names</label>\\n\\t\\t<input type=\"text\" id=\"input-45\"\"><br>\\n\\t</div>\\n\\t<div id=\"blk-20\" class=\"text-wrapper content\">\\n\\t\\t<p id=\"p-13\">2</p>\\n\\t\\t<p id=\"p-14\">Other names you are, or have been, known by</p>\\n\\t</div>\\n\\t<div id=\"blk-21\" class=\"content input-wrapper\">\\n\\t\\t<label for=\"input-58\">( including rame at bith, previous married remes, aliases)</label>\\n\\t\\t<input type=\"text\" id=\"input-58\"\"><br>\\n\\t</div>\\n\\t<div id=\"blk-22\" class=\"content input-wrapper\">\\n\\t\\t<p id=\"p-15\">3</p>\\n\\t\\t<label for=\"input-59\">Name in your own language or script fif applicable)</label>\\n\\t\\t<input type=\"text\" id=\"input-59\"\"><br>\\n\\t</div>\\n\\t<div id=\"blk-23\" class=\"content input-wrapper\">\\n\\t\\t<p id=\"p-16\">4</p>\\n\\t\\t<label for=\"input-60\">Name in Chinese Commercial Code Numbers( if applicable)</label>\\n\\t\\t<input type=\"text\" id=\"input-60\"\"><br>\\n\\t</div>\\n\\t<div id=\"blk-24\" class=\"text-wrapper content\">\\n\\t\\t<p id=\"p-17\">DAY</p>\\n\\t\\t<p id=\"p-18\">MONTH</p>\\n\\t\\t<p id=\"p-19\">YEAR</p>\\n\\t</div>\\n\\t<div id=\"blk-25\" class=\"text-wrapper content\">\\n\\t\\t<p id=\"p-20\">5</p>\\n\\t\\t<p id=\"p-21\">Date of birth</p>\\n\\t</div>\\n\\t<div id=\"blk-26\" class=\"text-wrapper content\">\\n\\t\\t<p id=\"p-26\">6</p>\\n\\t\\t<p id=\"p-27\">Place of birth</p>\\n\\t</div>\\n\\t<div id=\"blk-27\" class=\"content input-wrapper\">\\n\\t\\t<label for=\"input-46\">Suburb and\\n\\t\\ttown/ city</label>\\n\\t\\t<input type=\"text\" id=\"input-46\"\"><br>\\n\\t</div>\\n\\t<div id=\"blk-28\" class=\"content input-wrapper\">\\n\\t\\t<label for=\"input-42\">State/ province/\\n\\t\\tregion</label>\\n\\t\\t<input type=\"text\" id=\"input-42\"\"><br>\\n\\t</div>\\n\\t<div id=\"blk-29\" class=\"content input-wrapper\">\\n\\t\\t<label for=\"input-47\">Country</label>\\n\\t\\t<input type=\"text\" id=\"input-47\"\"><br>\\n\\t</div>\\n\\t<div id=\"blk-30\" class=\"content input-wrapper\">\\n\\t\\t<p id=\"p-28\">7</p>\\n\\t\\t<p id=\"p-29\">Sex</p>\\n\\t\\t<label for=\"input-51\">Male</label>\\n\\t\\t<input type=\"text\" id=\"input-51\"\"><br>\\n\\t\\t<label for=\"input-55\">Female</label>\\n\\t\\t<input type=\"text\" id=\"input-55\"\"><br>\\n\\t</div>\\n\\t<div id=\"blk-31\" class=\"text-wrapper content\">\\n\\t\\t<p id=\"p-30\">8</p>\\n\\t\\t<p id=\"p-31\">Relationship status</p>\\n\\t</div>\\n\\t<div id=\"blk-32\" class=\"content input-wrapper\">\\n\\t\\t<label for=\"input-49\">Engaged</label>\\n\\t\\t<input type=\"text\" id=\"input-49\"\"><br>\\n\\t\\t<label for=\"input-50\">Married</label>\\n\\t\\t<input type=\"text\" id=\"input-50\"\"><br>\\n\\t\\t<label for=\"input-52\">Separated</label>\\n\\t\\t<input type=\"text\" id=\"input-52\"\"><br>\\n\\t\\t<label for=\"input-54\">Divorced</label>\\n\\t\\t<input type=\"text\" id=\"input-54\"\"><br>\\n\\t\\t<label for=\"input-56\">Never married or\\n\\t\\tbeen in a de facto</label>\\n\\t\\t<input type=\"text\" id=\"input-56\"\"><br>\\n\\t\\t<p id=\"p-32\">relationship</p>\\n\\t</div>\\n\\t<div id=\"blk-33\" class=\"content input-wrapper\">\\n\\t\\t<label for=\"input-48\">De facto</label>\\n\\t\\t<input type=\"text\" id=\"input-48\"\"><br>\\n\\t\\t<label for=\"input-53\">Widowed</label>\\n\\t\\t<input type=\"text\" id=\"input-53\"\"><br>\\n\\t</div>\\n\\t<div id=\"blk-34\" class=\"content input-wrapper\">\\n\\t\\t<p id=\"p-33\">9</p>\\n\\t\\t<label for=\"input-61\">Citizenship or nationality give details of all held</label>\\n\\t\\t<input type=\"text\" id=\"input-61\"\"><br>\\n\\t</div>\\n\\t<div id=\"blk-35\" class=\"text-wrapper content\">\\n\\t\\t<p id=\"p-34\">MONTH</p>\\n\\t\\t<p id=\"p-35\">YEAH</p>\\n\\t</div>\\n\\t<div id=\"blk-36\" class=\"content input-wrapper\">\\n\\t\\t<label for=\"input-43\">Date granted</label>\\n\\t\\t<input type=\"text\" id=\"input-43\"\"><br>\\n\\t</div>\\n\\t<div id=\"blk-38\" class=\"text-wrapper content\">\\n\\t\\t<p id=\"p-36\">COMIVONWEALTH OF AUSTRALIA 2015</p>\\n\\t\\t<p id=\"p-37\">1221 Design</p>\\n\\t\\t<p id=\"p-38\">1019. Page 1</p>\\n\\t</div>\\n</div>\\n\\n        <script>\\n        var sectionTitle = document.getElementsByClassName(\"section-title\")\\n        for(let i = 0; i < sectionTitle.length; i++){\\n            sectionTitle[i].addEventListener(\"click\", function () {\\n                this.classList.toggle(\"active\")\\n                let sibling = this.nextElementSibling\\n                while(sibling){\\n                    if (sibling.style.display === \"block\" || sibling.style.display === \"flex\") {\\n                        sibling.style.display = \"none\";\\n                    } else {\\n                        if (sibling.classList.contains(\\'input-wrapper\\')) {\\n                            sibling.style.display = \"block\";\\n                        }\\n                        else if (sibling.classList.contains(\\'text-wrapper\\')){\\n                            sibling.style.display = \"flex\";\\n                        }\\n                    }\\n                    sibling = sibling.nextElementSibling\\n                }\\n            })\\n        }\\n        function addRow(ele) {\\n            let table = document.getElementById(ele.dataset.target)\\n            let rowNum = table.rows.length\\n            let row = table.insertRow(rowNum)\\n            for (let i=0; i < table.rows[rowNum - 1].cells.length; i++){\\n                let cell = row.insertCell(i)\\n                let cell_id = ele.dataset.target + \\'-col-\\' + i.toString() + \\'-row-\\' + rowNum.toString()\\n                cell.innerHTML = \\'<input id=\"\\' + cell_id + \\'\">\\'\\n            }\\n        }\\n        function delRow(ele) {\\n            let table = document.getElementById(ele.dataset.target)\\n            let rowNum = table.rows.length\\n            if (rowNum > 1){\\n                table.deleteRow(rowNum - 1)\\n            }\\n        }\\n        </script>\\n    </body>\\n</html>'"
      ]
     },
     "execution_count": 15,
     "metadata": {},
     "output_type": "execute_result"
    }
   ],
   "source": [
    "gen.page.html_script"
   ]
  },
  {
   "cell_type": "code",
   "execution_count": 9,
   "metadata": {},
   "outputs": [
    {
     "name": "stdout",
     "output_type": "stream",
     "text": [
      "<div id=\"blk-16\" class=\"section-wrapper\">\n",
      "\t<div id=\"blk-15\" class=\" section-title\">\n",
      "\t\t<p id=\"p-3\">Part 1- Your details</p>\n",
      "\t</div>\n",
      "\t<div id=\"blk-17\" class=\"text-wrapper content\">\n",
      "\t\t<p id=\"p-4\">1</p>\n",
      "\t\t<p id=\"p-5\">Your full name</br>( as shown in your passport or travel document)</p>\n",
      "\t</div>\n",
      "\t<div id=\"blk-18\" class=\"content input-wrapper\">\n",
      "\t\t<label for=\"input-44\">Family name</label>\n",
      "\t\t<input type=\"text\" id=\"input-44\"\"><br>\n",
      "\t</div>\n",
      "\t<div id=\"blk-19\" class=\"content input-wrapper\">\n",
      "\t\t<label for=\"input-45\">Given names</label>\n",
      "\t\t<input type=\"text\" id=\"input-45\"\"><br>\n",
      "\t</div>\n",
      "\t<div id=\"blk-20\" class=\"text-wrapper content\">\n",
      "\t\t<p id=\"p-13\">2</p>\n",
      "\t\t<p id=\"p-14\">Other names you are, or have been, known by</p>\n",
      "\t</div>\n",
      "\t<div id=\"blk-21\" class=\"content input-wrapper\">\n",
      "\t\t<label for=\"input-58\">( including rame at bith, previous married remes, aliases)</label>\n",
      "\t\t<input type=\"text\" id=\"input-58\"\"><br>\n",
      "\t</div>\n",
      "\t<div id=\"blk-22\" class=\"content input-wrapper\">\n",
      "\t\t<p id=\"p-15\">3</p>\n",
      "\t\t<label for=\"input-59\">Name in your own language or script fif applicable)</label>\n",
      "\t\t<input type=\"text\" id=\"input-59\"\"><br>\n",
      "\t</div>\n",
      "\t<div id=\"blk-23\" class=\"content input-wrapper\">\n",
      "\t\t<p id=\"p-16\">4</p>\n",
      "\t\t<label for=\"input-60\">Name in Chinese Commercial Code Numbers( if applicable)</label>\n",
      "\t\t<input type=\"text\" id=\"input-60\"\"><br>\n",
      "\t</div>\n",
      "\t<div id=\"blk-24\" class=\"text-wrapper content\">\n",
      "\t\t<p id=\"p-17\">DAY</p>\n",
      "\t\t<p id=\"p-18\">MONTH</p>\n",
      "\t\t<p id=\"p-19\">YEAR</p>\n",
      "\t</div>\n",
      "\t<div id=\"blk-25\" class=\"text-wrapper content\">\n",
      "\t\t<p id=\"p-20\">5</p>\n",
      "\t\t<p id=\"p-21\">Date of birth</p>\n",
      "\t</div>\n",
      "\t<div id=\"blk-26\" class=\"text-wrapper content\">\n",
      "\t\t<p id=\"p-26\">6</p>\n",
      "\t\t<p id=\"p-27\">Place of birth</p>\n",
      "\t</div>\n",
      "\t<div id=\"blk-27\" class=\"content input-wrapper\">\n",
      "\t\t<label for=\"input-46\">Suburb and\n",
      "\t\ttown/ city</label>\n",
      "\t\t<input type=\"text\" id=\"input-46\"\"><br>\n",
      "\t</div>\n",
      "\t<div id=\"blk-28\" class=\"content input-wrapper\">\n",
      "\t\t<label for=\"input-42\">State/ province/\n",
      "\t\tregion</label>\n",
      "\t\t<input type=\"text\" id=\"input-42\"\"><br>\n",
      "\t</div>\n",
      "\t<div id=\"blk-29\" class=\"content input-wrapper\">\n",
      "\t\t<label for=\"input-47\">Country</label>\n",
      "\t\t<input type=\"text\" id=\"input-47\"\"><br>\n",
      "\t</div>\n",
      "\t<div id=\"blk-30\" class=\"content input-wrapper\">\n",
      "\t\t<p id=\"p-28\">7</p>\n",
      "\t\t<p id=\"p-29\">Sex</p>\n",
      "\t\t<label for=\"input-51\">Male</label>\n",
      "\t\t<input type=\"text\" id=\"input-51\"\"><br>\n",
      "\t\t<label for=\"input-55\">Female</label>\n",
      "\t\t<input type=\"text\" id=\"input-55\"\"><br>\n",
      "\t</div>\n",
      "\t<div id=\"blk-31\" class=\"text-wrapper content\">\n",
      "\t\t<p id=\"p-30\">8</p>\n",
      "\t\t<p id=\"p-31\">Relationship status</p>\n",
      "\t</div>\n",
      "\t<div id=\"blk-32\" class=\"content input-wrapper\">\n",
      "\t\t<label for=\"input-49\">Engaged</label>\n",
      "\t\t<input type=\"text\" id=\"input-49\"\"><br>\n",
      "\t\t<label for=\"input-50\">Married</label>\n",
      "\t\t<input type=\"text\" id=\"input-50\"\"><br>\n",
      "\t\t<label for=\"input-52\">Separated</label>\n",
      "\t\t<input type=\"text\" id=\"input-52\"\"><br>\n",
      "\t\t<label for=\"input-54\">Divorced</label>\n",
      "\t\t<input type=\"text\" id=\"input-54\"\"><br>\n",
      "\t\t<label for=\"input-56\">Never married or\n",
      "\t\tbeen in a de facto</label>\n",
      "\t\t<input type=\"text\" id=\"input-56\"\"><br>\n",
      "\t\t<p id=\"p-32\">relationship</p>\n",
      "\t</div>\n",
      "\t<div id=\"blk-33\" class=\"content input-wrapper\">\n",
      "\t\t<label for=\"input-48\">De facto</label>\n",
      "\t\t<input type=\"text\" id=\"input-48\"\"><br>\n",
      "\t\t<label for=\"input-53\">Widowed</label>\n",
      "\t\t<input type=\"text\" id=\"input-53\"\"><br>\n",
      "\t</div>\n",
      "\t<div id=\"blk-34\" class=\"content input-wrapper\">\n",
      "\t\t<p id=\"p-33\">9</p>\n",
      "\t\t<label for=\"input-61\">Citizenship or nationality give details of all held</label>\n",
      "\t\t<input type=\"text\" id=\"input-61\"\"><br>\n",
      "\t</div>\n",
      "\t<div id=\"blk-35\" class=\"text-wrapper content\">\n",
      "\t\t<p id=\"p-34\">MONTH</p>\n",
      "\t\t<p id=\"p-35\">YEAH</p>\n",
      "\t</div>\n",
      "\t<div id=\"blk-36\" class=\"content input-wrapper\">\n",
      "\t\t<label for=\"input-43\">Date granted</label>\n",
      "\t\t<input type=\"text\" id=\"input-43\"\"><br>\n",
      "\t</div>\n",
      "\t<div id=\"blk-38\" class=\"text-wrapper content\">\n",
      "\t\t<p id=\"p-36\">COMIVONWEALTH OF AUSTRALIA 2015</p>\n",
      "\t\t<p id=\"p-37\">1221 Design</p>\n",
      "\t\t<p id=\"p-38\">1019. Page 1</p>\n",
      "\t</div>\n",
      "</div>\n",
      "\n"
     ]
    }
   ],
   "source": [
    "print(gen.sections[1].html_script)"
   ]
  },
  {
   "cell_type": "code",
   "execution_count": null,
   "metadata": {},
   "outputs": [],
   "source": []
  },
  {
   "cell_type": "code",
   "execution_count": 9,
   "metadata": {},
   "outputs": [],
   "source": []
  }
 ],
 "metadata": {
  "kernelspec": {
   "display_name": "Python 3",
   "language": "python",
   "name": "python3"
  },
  "language_info": {
   "codemirror_mode": {
    "name": "ipython",
    "version": 3
   },
   "file_extension": ".py",
   "mimetype": "text/x-python",
   "name": "python",
   "nbconvert_exporter": "python",
   "pygments_lexer": "ipython3",
   "version": "3.5.6"
  }
 },
 "nbformat": 4,
 "nbformat_minor": 2
}
