{
 "cells": [
  {
   "cell_type": "code",
   "execution_count": 1,
   "metadata": {},
   "outputs": [],
   "source": [
    "from detection.Form import *\n",
    "from generation.Generator import Generator"
   ]
  },
  {
   "cell_type": "code",
   "execution_count": 2,
   "metadata": {
    "scrolled": true
   },
   "outputs": [
    {
     "name": "stdout",
     "output_type": "stream",
     "text": [
      "*** Google OCR Processing Time:2.146 s***\n",
      "*** Element Detection Time:0.256 s***\n"
     ]
    }
   ],
   "source": [
    "form = form_compo_detection('data/input/3.jpg')\n",
    "# form.visualize_detection_result()"
   ]
  },
  {
   "cell_type": "code",
   "execution_count": 3,
   "metadata": {},
   "outputs": [],
   "source": [
    "gen = Generator(form)\n",
    "gen.init_html_compos()\n",
    "gen.slice_blocks()\n",
    "# gen.visualize_blocks()\n",
    "# gen.visualize_sections()"
   ]
  },
  {
   "cell_type": "code",
   "execution_count": 4,
   "metadata": {},
   "outputs": [],
   "source": [
    "# gen.init_page_html(by='block')\n",
    "gen.init_page(by='section')\n",
    "html, css = gen.export_page()"
   ]
  },
  {
   "cell_type": "code",
   "execution_count": 5,
   "metadata": {},
   "outputs": [
    {
     "data": {
      "text/plain": [
       "{'input-19': [{'bottom': 852, 'left': 103, 'right': 403, 'top': 826}],\n",
       " 'input-20': [{'bottom': 613, 'left': 103, 'right': 268, 'top': 593}],\n",
       " 'input-21': [{'bottom': 632, 'left': 103, 'right': 268, 'top': 613}],\n",
       " 'input-22': [{'bottom': 672, 'left': 134, 'right': 677, 'top': 652}],\n",
       " 'input-23': [{'bottom': 692, 'left': 134, 'right': 677, 'top': 672}],\n",
       " 'input-24': [{'bottom': 781, 'left': 103, 'right': 403, 'top': 754}],\n",
       " 'input-25': [{'bottom': 824, 'left': 102, 'right': 232, 'top': 803}],\n",
       " 'input-26': [{'bottom': 185, 'left': 134, 'right': 677, 'top': 165}],\n",
       " 'input-27': [{'bottom': 164, 'left': 136, 'right': 249, 'top': 146},\n",
       "  {'bottom': 163, 'left': 248, 'right': 264, 'top': 146}],\n",
       " 'input-28': [{'bottom': 143, 'left': 136, 'right': 266, 'top': 127}],\n",
       " 'input-29': [{'bottom': 712, 'left': 134, 'right': 677, 'top': 692}],\n",
       " 'input-30': [{'bottom': 824, 'left': 270, 'right': 356, 'top': 803}],\n",
       " 'input-31': [{'bottom': 613, 'left': 356, 'right': 677, 'top': 593}],\n",
       " 'input-32': [{'bottom': 632, 'left': 356, 'right': 677, 'top': 613}],\n",
       " 'input-33': [{'bottom': 165, 'left': 356, 'right': 439, 'top': 145}],\n",
       " 'input-34': [{'bottom': 144, 'left': 358, 'right': 438, 'top': 127}],\n",
       " 'input-35': [{'bottom': 823, 'left': 405, 'right': 677, 'top': 803}],\n",
       " 'input-36': [{'bottom': 781, 'left': 440, 'right': 677, 'top': 754}],\n",
       " 'input-37': [{'bottom': 852, 'left': 440, 'right': 678, 'top': 825}],\n",
       " 'input-38': [{'bottom': 165, 'left': 552, 'right': 677, 'top': 146}],\n",
       " 'input-39': [{'bottom': 144, 'left': 552, 'right': 676, 'top': 127}],\n",
       " 'input-40': [{'bottom': 551, 'left': 630, 'right': 679, 'top': 528}]}"
      ]
     },
     "execution_count": 5,
     "metadata": {},
     "output_type": "execute_result"
    }
   ],
   "source": [
    "gen.export_input_fields_locations()"
   ]
  },
  {
   "cell_type": "code",
   "execution_count": null,
   "metadata": {},
   "outputs": [],
   "source": []
  }
 ],
 "metadata": {
  "kernelspec": {
   "display_name": "Python 3",
   "language": "python",
   "name": "python3"
  },
  "language_info": {
   "codemirror_mode": {
    "name": "ipython",
    "version": 3
   },
   "file_extension": ".py",
   "mimetype": "text/x-python",
   "name": "python",
   "nbconvert_exporter": "python",
   "pygments_lexer": "ipython3",
   "version": "3.5.6"
  }
 },
 "nbformat": 4,
 "nbformat_minor": 2
}
