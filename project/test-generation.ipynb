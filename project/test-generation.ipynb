{
 "cells": [
  {
   "cell_type": "code",
   "execution_count": 1,
   "metadata": {},
   "outputs": [],
   "source": [
    "from detection.Form import *\n",
    "from generation.Generator import Generator"
   ]
  },
  {
   "cell_type": "code",
   "execution_count": 2,
   "metadata": {
    "scrolled": true
   },
   "outputs": [
    {
     "name": "stdout",
     "output_type": "stream",
     "text": [
      "*** Google OCR Processing Time:2.190 s***\n",
      "*** Element Detection Time:0.265 s***\n"
     ]
    }
   ],
   "source": [
    "form = form_compo_detection('data/input/3.jpg')\n",
    "# form.visualize_detection_result()"
   ]
  },
  {
   "cell_type": "code",
   "execution_count": 3,
   "metadata": {},
   "outputs": [],
   "source": [
    "gen = Generator(form)\n",
    "gen.init_html_compos()\n",
    "gen.slice_blocks()\n",
    "# gen.visualize_blocks()\n",
    "# gen.visualize_sections()"
   ]
  },
  {
   "cell_type": "code",
   "execution_count": 4,
   "metadata": {},
   "outputs": [],
   "source": [
    "for compo in gen.html_compos:\n",
    "    if compo.type == 'table':\n",
    "        table = compo"
   ]
  },
  {
   "cell_type": "code",
   "execution_count": 7,
   "metadata": {},
   "outputs": [
    {
     "name": "stdout",
     "output_type": "stream",
     "text": [
      "<table id=\"tb-18\">\n",
      "\t<thead>\n",
      "\t\t<tr>\n",
      "\t\t\t<th>Receipt\n",
      "#</th>\n",
      "\t\t\t<th>Charge Code</th>\n",
      "\t\t\t<th>Description of Item Purchased</th>\n",
      "\t\t\t<th>Total AUD incl GST</th>\n",
      "\t\t\t<th>FBT\n",
      "Applies</th>\n",
      "\t\t</tr>\n",
      "\t<tbody>\n",
      "\t\t<tr>\n",
      "\t\t\t<td><input id=\"tb-18-col-0-row-1\"></td>\n",
      "\t\t\t<td><input id=\"tb-18-col-1-row-1\"></td>\n",
      "\t\t\t<td><input id=\"tb-18-col-2-row-1\"></td>\n",
      "\t\t\t<td><input id=\"tb-18-col-3-row-1\"></td>\n",
      "\t\t\t<td><input id=\"tb-18-col-4-row-1\"></td>\n",
      "\t\t</tr>\n",
      "</table>\n",
      "<button style=\"width: 80px; height: 40px\" onclick=\"addRow(this)\" data-target=\"tb-18\">Add Row</button>\n"
     ]
    }
   ],
   "source": [
    "print(table.html_script)"
   ]
  },
  {
   "cell_type": "code",
   "execution_count": 8,
   "metadata": {},
   "outputs": [
    {
     "name": "stdout",
     "output_type": "stream",
     "text": [
      "<div id=\"blk-0\" class=\"section-wrapper\">\n",
      "\t<div id=\"blk-1\" class=\"text-wrapper content\">\n",
      "\t\t<div class=\"border-line\">\n",
      "\t\t</div>\n",
      "\t\t<p id=\"p-0\">Australian</br>National</br>University</p>\n",
      "\t\t<p id=\"p-2\">EXPENSE REIMBURSEMENT FORM</p>\n",
      "\t\t<p id=\"p-1\">Send completed form to invoice.workflow@ anu.edu.au</br>Finance& Business Services, Bldg 10c</br>Enquiries:( 02) 6125 4777</p>\n",
      "\t</div>\n",
      "</div>\n",
      "\n",
      "<div id=\"blk-3\" class=\"section-wrapper\">\n",
      "\t<div id=\"blk-2\" class=\" section-title\">\n",
      "\t\t<p id=\"p-3\">Part A: PERSONAL PARTICULARS</p>\n",
      "\t</div>\n",
      "\t<div id=\"blk-4\" class=\"content input-wrapper\">\n",
      "\t\t<label for=\"input-28\">Family Name</label>\n",
      "\t\t<input type=\"text\" id=\"input-28\"><br>\n",
      "\t\t<label for=\"input-34\">First Name</label>\n",
      "\t\t<input type=\"text\" id=\"input-34\"><br>\n",
      "\t\t<label for=\"input-39\">Vendor/ Uni ID</label>\n",
      "\t\t<input type=\"text\" id=\"input-39\"><br>\n",
      "\t</div>\n",
      "\t<div id=\"blk-5\" class=\"content input-wrapper\">\n",
      "\t\t<label for=\"input-27\">Business Unit</label>\n",
      "\t\t<input type=\"text\" id=\"input-27\"><br>\n",
      "\t\t<label for=\"input-33\">Phone</label>\n",
      "\t\t<input type=\"text\" id=\"input-33\"><br>\n",
      "\t\t<label for=\"input-38\">Related Travel Request ID</label>\n",
      "\t\t<input type=\"text\" id=\"input-38\"><br>\n",
      "\t</div>\n",
      "\t<div id=\"blk-6\" class=\"content input-wrapper\">\n",
      "\t\t<label for=\"input-26\">Non- ANU address</label>\n",
      "\t\t<input type=\"text\" id=\"input-26\"><br>\n",
      "\t</div>\n",
      "\t<div id=\"blk-7\" class=\"text-wrapper content\">\n",
      "\t\t<p id=\"p-16\">Pay group( select one)</p>\n",
      "\t\t<p id=\"p-4\">Staff</p>\n",
      "\t\t<p id=\"p-5\">Student</p>\n",
      "\t\t<p id=\"p-6\">Person of Interest/ Visitor/ Other</p>\n",
      "\t</div>\n",
      "</div>\n",
      "\n",
      "<div id=\"blk-9\" class=\"section-wrapper\">\n",
      "\t<div id=\"blk-8\" class=\" section-title\">\n",
      "\t\t<p id=\"p-7\">Part B: EXPENSES- Invoices( Tax or overseas) MUST be attached to verify ALL claims</p>\n",
      "\t</div>\n",
      "\t<div id=\"blk-10\" class=\"text-wrapper content\">\n",
      "\t\t<table id=\"tb-18\">\n",
      "\t\t\t<thead>\n",
      "\t\t\t\t<tr>\n",
      "\t\t\t\t\t<th>Receipt\n",
      "\t\t#</th>\n",
      "\t\t\t\t\t<th>Charge Code</th>\n",
      "\t\t\t\t\t<th>Description of Item Purchased</th>\n",
      "\t\t\t\t\t<th>Total AUD incl GST</th>\n",
      "\t\t\t\t\t<th>FBT\n",
      "\t\tApplies</th>\n",
      "\t\t\t\t</tr>\n",
      "\t\t\t<tbody>\n",
      "\t\t\t\t<tr>\n",
      "\t\t\t\t\t<td><input id=\"tb-18-col-0-row-1\"></td>\n",
      "\t\t\t\t\t<td><input id=\"tb-18-col-1-row-1\"></td>\n",
      "\t\t\t\t\t<td><input id=\"tb-18-col-2-row-1\"></td>\n",
      "\t\t\t\t\t<td><input id=\"tb-18-col-3-row-1\"></td>\n",
      "\t\t\t\t\t<td><input id=\"tb-18-col-4-row-1\"></td>\n",
      "\t\t\t\t</tr>\n",
      "\t\t</table>\n",
      "\t\t<button style=\"width: 80px; height: 40px\" onclick=\"addRow(this)\" data-target=\"tb-18\">Add Row</button</div>\n",
      "\t<div id=\"blk-11\" class=\"content input-wrapper\">\n",
      "\t\t<p id=\"p-15\">TOTAL AMOUNT AUD</p>\n",
      "\t\t<label for=\"input-40\">$ 0.00</label>\n",
      "\t\t<input type=\"text\" id=\"input-40\"><br>\n",
      "\t</div>\n",
      "\t<div id=\"blk-12\" class=\"text-wrapper content\">\n",
      "\t\t<p id=\"p-14\">Former Students& Visitors: MUST provide your current bank account information below. Current Staff& Students should log onto HORUS/ ISIS to update their account detalls.</p>\n",
      "\t</div>\n",
      "</div>\n",
      "\n",
      "<div id=\"blk-14\" class=\"section-wrapper\">\n",
      "\t<div id=\"blk-13\" class=\" section-title\">\n",
      "\t\t<p id=\"p-8\">Part C: BANK DETAILS</p>\n",
      "\t</div>\n",
      "\t<div id=\"blk-15\" class=\"content input-wrapper\">\n",
      "\t\t<label for=\"input-20\">BSB</label>\n",
      "\t\t<input type=\"text\" id=\"input-20\"><br>\n",
      "\t\t<label for=\"input-31\">Account Number</label>\n",
      "\t\t<input type=\"text\" id=\"input-31\"><br>\n",
      "\t</div>\n",
      "\t<div id=\"blk-16\" class=\"content input-wrapper\">\n",
      "\t\t<label for=\"input-21\">Name of Bank</label>\n",
      "\t\t<input type=\"text\" id=\"input-21\"><br>\n",
      "\t\t<label for=\"input-32\">Account Name</label>\n",
      "\t\t<input type=\"text\" id=\"input-32\"><br>\n",
      "\t</div>\n",
      "\t<div id=\"blk-17\" class=\"text-wrapper content\">\n",
      "\t\t<p id=\"p-9\">Additional information required for foreign bank accounts</p>\n",
      "\t</div>\n",
      "\t<div id=\"blk-18\" class=\"content input-wrapper\">\n",
      "\t\t<label for=\"input-22\">Bank Street Address</label>\n",
      "\t\t<input type=\"text\" id=\"input-22\"><br>\n",
      "\t</div>\n",
      "\t<div id=\"blk-19\" class=\"content input-wrapper\">\n",
      "\t\t<label for=\"input-23\">SWIFT/ BIC CODE</label>\n",
      "\t\t<input type=\"text\" id=\"input-23\"><br>\n",
      "\t</div>\n",
      "\t<div id=\"blk-20\" class=\"content input-wrapper\">\n",
      "\t\t<label for=\"input-29\">IBAN</label>\n",
      "\t\t<input type=\"text\" id=\"input-29\"><br>\n",
      "\t</div>\n",
      "</div>\n",
      "\n",
      "<div id=\"blk-22\" class=\"section-wrapper\">\n",
      "\t<div id=\"blk-21\" class=\" section-title\">\n",
      "\t\t<p id=\"p-10\">Part D: DECLARATION</p>\n",
      "\t</div>\n",
      "\t<div id=\"blk-23\" class=\"text-wrapper content\">\n",
      "\t\t<p id=\"p-11\">I acknowledge I have read the instruczons relating to reimbursements and that the above costs were incurred by me in accordance</br>with ANU Policies and I have attached relevant supporting documents</p>\n",
      "\t</div>\n",
      "\t<div id=\"blk-24\" class=\"content input-wrapper\">\n",
      "\t\t<label for=\"input-24\">Signature</label>\n",
      "\t\t<input type=\"text\" id=\"input-24\"><br>\n",
      "\t\t<label for=\"input-36\">Date</label>\n",
      "\t\t<input type=\"text\" id=\"input-36\"><br>\n",
      "\t</div>\n",
      "</div>\n",
      "\n",
      "<div id=\"blk-26\" class=\"section-wrapper\">\n",
      "\t<div id=\"blk-25\" class=\" section-title\">\n",
      "\t\t<p id=\"p-12\">Part E: DELEGATE APPROVAL</p>\n",
      "\t\t<p id=\"p-13\">( It is the responsibility of the Delegare zo ensure they have Financial Delegation ID 220 and the appropriate limit.)</p>\n",
      "\t</div>\n",
      "\t<div id=\"blk-27\" class=\"content input-wrapper\">\n",
      "\t\t<label for=\"input-25\">Name of Delegate</label>\n",
      "\t\t<input type=\"text\" id=\"input-25\"><br>\n",
      "\t\t<label for=\"input-30\">Uni ID</label>\n",
      "\t\t<input type=\"text\" id=\"input-30\"><br>\n",
      "\t\t<label for=\"input-35\">Job Title</label>\n",
      "\t\t<input type=\"text\" id=\"input-35\"><br>\n",
      "\t</div>\n",
      "\t<div id=\"blk-28\" class=\"content input-wrapper\">\n",
      "\t\t<label for=\"input-19\">Signature</label>\n",
      "\t\t<input type=\"text\" id=\"input-19\"><br>\n",
      "\t\t<label for=\"input-37\">Date</label>\n",
      "\t\t<input type=\"text\" id=\"input-37\"><br>\n",
      "\t</div>\n",
      "</div>\n",
      "\n"
     ]
    }
   ],
   "source": [
    "for sect in gen.sections:\n",
    "    print(sect.html_script)"
   ]
  },
  {
   "cell_type": "code",
   "execution_count": null,
   "metadata": {},
   "outputs": [],
   "source": []
  },
  {
   "cell_type": "code",
   "execution_count": null,
   "metadata": {},
   "outputs": [],
   "source": []
  },
  {
   "cell_type": "code",
   "execution_count": 9,
   "metadata": {},
   "outputs": [],
   "source": [
    "# gen.init_page_html(by='block')\n",
    "gen.init_page(by='section')\n",
    "html, css = gen.export_page()"
   ]
  },
  {
   "cell_type": "code",
   "execution_count": null,
   "metadata": {},
   "outputs": [],
   "source": []
  }
 ],
 "metadata": {
  "kernelspec": {
   "display_name": "Python 3",
   "language": "python",
   "name": "python3"
  },
  "language_info": {
   "codemirror_mode": {
    "name": "ipython",
    "version": 3
   },
   "file_extension": ".py",
   "mimetype": "text/x-python",
   "name": "python",
   "nbconvert_exporter": "python",
   "pygments_lexer": "ipython3",
   "version": "3.5.6"
  }
 },
 "nbformat": 4,
 "nbformat_minor": 2
}
