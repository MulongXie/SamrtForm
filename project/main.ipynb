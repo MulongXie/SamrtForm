{
 "cells": [
  {
   "cell_type": "code",
   "execution_count": 7,
   "metadata": {},
   "outputs": [],
   "source": [
    "from detection.Form import Form\n",
    "from detection.Image import Image\n",
    "import cv2"
   ]
  },
  {
   "cell_type": "code",
   "execution_count": 8,
   "metadata": {},
   "outputs": [
    {
     "name": "stdout",
     "output_type": "stream",
     "text": [
      "*** Google OCR Processing Time:0.956 s***\n",
      "*** Element Detection Time:0.301 s***\n"
     ]
    }
   ],
   "source": [
    "# *** 1. Elements detection ***\n",
    "form = Form('data/3.jpg')\n",
    "form.text_detection()\n",
    "form.element_detection()\n",
    "form.assign_element_ids()\n",
    "form.visualize_all_elements()"
   ]
  },
  {
   "cell_type": "code",
   "execution_count": 9,
   "metadata": {},
   "outputs": [],
   "source": [
    "# *** 2. Special element recognition ***\n",
    "form.textbox_recognition()\n",
    "form.visualize_all_elements()"
   ]
  },
  {
   "cell_type": "code",
   "execution_count": 10,
   "metadata": {},
   "outputs": [],
   "source": [
    "# *** 3. Units grouping ***\n",
    "form.group_elements_to_units()\n",
    "form.sort_units()\n",
    "form.visualize_units()"
   ]
  },
  {
   "cell_type": "code",
   "execution_count": 11,
   "metadata": {},
   "outputs": [],
   "source": [
    "# *** 4. Table detection ***\n",
    "form.table_detection()\n",
    "form.table_refine()\n",
    "form.visualize_all_elements()"
   ]
  },
  {
   "cell_type": "code",
   "execution_count": 12,
   "metadata": {},
   "outputs": [],
   "source": [
    "# *** 5. Input compound recognition ***\n",
    "form.input_compound_recognition()\n",
    "form.input_refine()\n",
    "form.visualize_inputs()"
   ]
  },
  {
   "cell_type": "code",
   "execution_count": null,
   "metadata": {},
   "outputs": [],
   "source": [
    "# form.img.visualize_elements_contours(element_opt='rectangle', board_opt='binary')\n",
    "\n",
    "# img = Image('1.jpg')\n",
    "# img.detect_rectangle_elements()\n",
    "# img.detect_line_elements()\n",
    "# b = img.visualize_elements_contours(element_opt='rectangle', board_opt='binary')\n",
    "# img.visualize_elements_contours(element_opt='line', board_opt='binary', board=b)"
   ]
  }
 ],
 "metadata": {
  "kernelspec": {
   "display_name": "Python 3",
   "language": "python",
   "name": "python3"
  },
  "language_info": {
   "codemirror_mode": {
    "name": "ipython",
    "version": 3
   },
   "file_extension": ".py",
   "mimetype": "text/x-python",
   "name": "python",
   "nbconvert_exporter": "python",
   "pygments_lexer": "ipython3",
   "version": "3.5.6"
  }
 },
 "nbformat": 4,
 "nbformat_minor": 2
}