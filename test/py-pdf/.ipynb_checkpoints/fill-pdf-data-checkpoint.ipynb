{
 "cells": [
  {
   "cell_type": "code",
   "execution_count": 2,
   "metadata": {},
   "outputs": [],
   "source": [
    "import fitz\n",
    "import json\n",
    "import base64\n",
    "\n",
    "import cv2"
   ]
  },
  {
   "cell_type": "code",
   "execution_count": 16,
   "metadata": {},
   "outputs": [],
   "source": [
    "def get_rect_box(data):\n",
    "    if data['type'] == 'text':\n",
    "        if 'boxWidth' in data:\n",
    "            width = int(data['boxWidth'].replace('px', ''))\n",
    "            height = int(data['boxHeight'].replace('px', ''))\n",
    "        else:\n",
    "            width = fitz.getTextlength(text=data['text'], fontsize=int(data['fontSize'][:-2])) + 2\n",
    "            height = int(data['fontSize'][:-2]) + 2\n",
    "    elif data['type'] == 'img':\n",
    "        width = float(data['width'][:-2])\n",
    "        height = float(data['height'][:-2])\n",
    "\n",
    "    rect_x1 = float(data['left'][:-2]) + 3\n",
    "    rect_y1 = float(data['top'][:-2])\n",
    "    rect_x2 = rect_x1 + width\n",
    "    rect_y2 = rect_y1 + height\n",
    "\n",
    "    return rect_x1, rect_y1, rect_x2, rect_y2"
   ]
  },
  {
   "cell_type": "code",
   "execution_count": 17,
   "metadata": {},
   "outputs": [],
   "source": [
    "def fill_pdf(input_data_file, original_file, filled_result_dir):\n",
    "    # read input data and original pdf\n",
    "    input_data = json.load(open(input_data_file, 'r'))\n",
    "    if original_file.split('.')[-1].lower() == 'pdf':\n",
    "        # for pdf form, directly load it\n",
    "        doc = fitz.open(original_file)\n",
    "    else:\n",
    "        # for image form, convert it to\n",
    "        img = cv2.imread(original_file)\n",
    "        if img.shape[0] > 1200:\n",
    "            img = resize_img_by_height(img, 900)\n",
    "            cv2.imwrite(filled_result_dir + 'resize.png', img)\n",
    "            original_file = filled_result_dir + 'resize.png'\n",
    "        src = fitz.open('pdf', fitz.open(original_file).convertToPDF())\n",
    "        doc = fitz.open()\n",
    "        page = doc.newPage(width=img.shape[1], height=img.shape[0])\n",
    "        page.showPDFpage(page.rect, src)\n",
    "\n",
    "    # fill data\n",
    "    for data in input_data:\n",
    "        page = doc[int(data['page']) - 1]\n",
    "        if data['type'] == 'text':\n",
    "            align_map = {'left':0, 'center':1, 'right':2, '':0}\n",
    "            page.insertTextbox(get_rect_box(data), data['text'], fontsize=int(data['fontSize'][:-2]), color=(0, 0, 0), align=align_map[data['textAlign']])\n",
    "        elif data['type'] == 'img':\n",
    "            sig_img = filled_result_dir + data['page'] + '-' + data['id'] + '.png'\n",
    "            open(sig_img, 'wb').write(base64.b64decode(data['img'].replace('data:image/png;base64,', '')))\n",
    "            page.insertImage(get_rect_box(data), sig_img)\n",
    "    doc.save(filled_result_dir + 'filled.pdf')"
   ]
  },
  {
   "cell_type": "code",
   "execution_count": 18,
   "metadata": {},
   "outputs": [],
   "source": [
    "input_dir = '3-pdf/'\n",
    "fill_pdf(input_data_file=input_dir+'input.json', original_file=input_dir+'/1.pdf', filled_result_dir=input_dir)"
   ]
  },
  {
   "cell_type": "code",
   "execution_count": null,
   "metadata": {},
   "outputs": [],
   "source": []
  },
  {
   "cell_type": "code",
   "execution_count": null,
   "metadata": {},
   "outputs": [],
   "source": []
  },
  {
   "cell_type": "code",
   "execution_count": null,
   "metadata": {},
   "outputs": [],
   "source": []
  }
 ],
 "metadata": {
  "kernelspec": {
   "display_name": "Python 3",
   "language": "python",
   "name": "python3"
  }
 },
 "nbformat": 4,
 "nbformat_minor": 2
}
