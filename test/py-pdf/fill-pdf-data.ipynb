{
 "cells": [
  {
   "cell_type": "code",
   "execution_count": 1,
   "metadata": {},
   "outputs": [],
   "source": [
    "import fitz\n",
    "import json\n",
    "import base64\n",
    "\n",
    "import cv2"
   ]
  },
  {
   "cell_type": "code",
   "execution_count": 2,
   "metadata": {},
   "outputs": [],
   "source": [
    "def get_rect_box(data):\n",
    "    if data['type'] == 'text':\n",
    "        width = fitz.getTextlength(text=data['text'], fontsize=int(data['fontSize'][:-2])) + 2\n",
    "        height = int(data['fontSize'][:-2]) + 2\n",
    "    elif data['type'] == 'img':\n",
    "        width = float(data['width'][:-2])\n",
    "        height = float(data['height'][:-2])\n",
    "        \n",
    "    rect_x1 = float(data['left'][:-2])\n",
    "    rect_y1 = float(data['top'][:-2])\n",
    "    rect_x2 = rect_x1 + width\n",
    "    rect_y2 = rect_y1 + height\n",
    "    \n",
    "    return rect_x1, rect_y1, rect_x2, rect_y2"
   ]
  },
  {
   "cell_type": "code",
   "execution_count": 3,
   "metadata": {},
   "outputs": [],
   "source": [
    "def fill_pdf(input_data_file, original_file, filled_result_dir):\n",
    "    # read input data and original pdf     \n",
    "    input_data = json.load(open(input_data_file, 'r'))\n",
    "    if original_file.split('.')[-1].lower() == 'pdf':\n",
    "        doc = fitz.open(original_file)\n",
    "    else:\n",
    "        img = cv2.imread(original_file)\n",
    "        src = fitz.open('pdf', fitz.open('1-img/1.jpg').convertToPDF())\n",
    "        doc = fitz.open()\n",
    "        page = doc.newPage(width = img.shape[1], height = img.shape[0])\n",
    "        page.showPDFpage(page.rect, src)\n",
    "    \n",
    "    # fill data     \n",
    "    for data in input_data:\n",
    "        page = doc[int(data['page']) - 1]\n",
    "        if data['type'] == 'text':\n",
    "            page.insertTextbox(get_rect_box(data), data['text'], fontsize=int(data['fontSize'][:-2]), color=(0,0,0))\n",
    "        elif data['type'] == 'img':\n",
    "            sig_img = filled_result_dir + data['page'] + '-' + data['id'] + '.png'\n",
    "            open(sig_img, 'wb').write(base64.b64decode(data['img'].replace('data:image/png;base64,', '')))\n",
    "            page.insertImage(get_rect_box(data), sig_img)\n",
    "    doc.save(filled_result_dir + 'filled.pdf')"
   ]
  },
  {
   "cell_type": "code",
   "execution_count": 4,
   "metadata": {},
   "outputs": [],
   "source": [
    "fill_pdf(input_data_file='1-img/input.json', original_file='1-img/1.jpg', filled_result_dir='1-img/')"
   ]
  },
  {
   "cell_type": "code",
   "execution_count": null,
   "metadata": {},
   "outputs": [],
   "source": []
  },
  {
   "cell_type": "code",
   "execution_count": null,
   "metadata": {},
   "outputs": [],
   "source": []
  },
  {
   "cell_type": "code",
   "execution_count": null,
   "metadata": {},
   "outputs": [],
   "source": []
  }
 ],
 "metadata": {
  "kernelspec": {
   "display_name": "Python 3",
   "language": "python",
   "name": "python3"
  },
  "language_info": {
   "codemirror_mode": {
    "name": "ipython",
    "version": 3
   },
   "file_extension": ".py",
   "mimetype": "text/x-python",
   "name": "python",
   "nbconvert_exporter": "python",
   "pygments_lexer": "ipython3",
   "version": "3.5.6"
  }
 },
 "nbformat": 4,
 "nbformat_minor": 2
}
