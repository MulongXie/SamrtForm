{
 "cells": [
  {
   "cell_type": "code",
   "execution_count": 1,
   "metadata": {},
   "outputs": [],
   "source": [
    "import fitz\n",
    "import json\n",
    "import base64\n",
    "import cv2"
   ]
  },
  {
   "cell_type": "code",
   "execution_count": 4,
   "metadata": {},
   "outputs": [],
   "source": [
    "def conver_img(input_pdf_path,output_path):\n",
    "    doc = fitz.open(input_pdf_path)\n",
    "    pdf_name = (input_pdf_path.split('/')[-1]).split('.')[0]\n",
    "    for pg in range(doc.pageCount):\n",
    "        page = doc[pg]\n",
    "        rotate = int(0)\n",
    "        zoom_x = 1.0\n",
    "        zoom_y = 1.0\n",
    "        trans = fitz.Matrix(zoom_x, zoom_y).preRotate(rotate)\n",
    "        pm = page.getPixmap(matrix=trans, alpha=False)\n",
    "        pm.writePNG(output_path+'%s_%d.JPG' % (pdf_name,pg))\n",
    "input_pdf_path=\"1-img/test.pdf\"\n",
    "output_path=\"1-img/\"\n",
    "conver_img(input_pdf_path,output_path)"
   ]
  },
  {
   "cell_type": "code",
   "execution_count": null,
   "metadata": {},
   "outputs": [],
   "source": []
  },
  {
   "cell_type": "code",
   "execution_count": null,
   "metadata": {},
   "outputs": [],
   "source": []
  },
  {
   "cell_type": "code",
   "execution_count": 5,
   "metadata": {},
   "outputs": [
    {
     "data": {
      "text/plain": [
       "6"
      ]
     },
     "execution_count": 5,
     "metadata": {},
     "output_type": "execute_result"
    }
   ],
   "source": [
    "img = cv2.imread('1-img/1.jpg')\n",
    "\n",
    "src = fitz.open('pdf', fitz.open('1-img/1.jpg').convertToPDF())\n",
    "doc = fitz.open()\n",
    "page = doc.newPage(width = img.shape[1], height = img.shape[0])\n",
    "page.showPDFpage(page.rect, src)\n",
    "# doc.insertPage(0)\n",
    "# doc[0].insertImage((0,0,img.shape[1],img.shape[0]), '1-img/1-0.png')"
   ]
  },
  {
   "cell_type": "code",
   "execution_count": 6,
   "metadata": {},
   "outputs": [],
   "source": [
    "doc.save('1-img/test.pdf')"
   ]
  },
  {
   "cell_type": "code",
   "execution_count": 23,
   "metadata": {},
   "outputs": [],
   "source": []
  },
  {
   "cell_type": "code",
   "execution_count": 49,
   "metadata": {},
   "outputs": [],
   "source": [
    "src = fitz.open('pdf', fitz.open('1-img/1.jpg').convertToPDF())  # problem PDF\n",
    "doc = fitz.open()\n",
    "for ipage in src:\n",
    "    if ipage.rect.width > ipage.rect.height:\n",
    "        fmt = fitz.PaperRect(\"a4-l\")  # landscape if input suggests\n",
    "    else:\n",
    "        fmt = fitz.PaperRect(\"a4\")\n",
    "    page = doc.newPage(width = fmt.width, height = fmt.height)\n",
    "    page.showPDFpage(page.rect, src, ipage.number)\n",
    "\n",
    "doc.save(\"1-img/reformatted.pdf\")"
   ]
  },
  {
   "cell_type": "code",
   "execution_count": null,
   "metadata": {},
   "outputs": [],
   "source": []
  }
 ],
 "metadata": {
  "kernelspec": {
   "display_name": "Python 3",
   "language": "python",
   "name": "python3"
  },
  "language_info": {
   "codemirror_mode": {
    "name": "ipython",
    "version": 3
   },
   "file_extension": ".py",
   "mimetype": "text/x-python",
   "name": "python",
   "nbconvert_exporter": "python",
   "pygments_lexer": "ipython3",
   "version": "3.5.6"
  }
 },
 "nbformat": 4,
 "nbformat_minor": 2
}
