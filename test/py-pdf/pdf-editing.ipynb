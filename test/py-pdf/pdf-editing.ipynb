{
 "cells": [
  {
   "cell_type": "code",
   "execution_count": 3,
   "metadata": {},
   "outputs": [],
   "source": [
    "import os\n",
    "import fitz\n",
    "\n",
    "def conver_img(input_pdf_path,output_path):\n",
    "    doc = fitz.open(input_pdf_path)\n",
    "    pdf_name = (input_pdf_path.split('/')[-1]).split('.')[0]\n",
    "    for pg in range(doc.pageCount):\n",
    "        page = doc[pg]\n",
    "        rotate = int(0)\n",
    "        zoom_x = 1.0\n",
    "        zoom_y = 1.0\n",
    "        trans = fitz.Matrix(zoom_x, zoom_y).preRotate(rotate)\n",
    "        pm = page.getPixmap(matrix=trans, alpha=False)\n",
    "        pm.writePNG(output_path+'%s_%d.JPG' % (pdf_name,pg))"
   ]
  },
  {
   "cell_type": "code",
   "execution_count": 4,
   "metadata": {},
   "outputs": [],
   "source": [
    "input_pdf_path=\"1-img/img.pdf\"\n",
    "output_path=\"1-img/\"\n",
    "conver_img(input_pdf_path,output_path)"
   ]
  },
  {
   "cell_type": "code",
   "execution_count": null,
   "metadata": {},
   "outputs": [],
   "source": []
  },
  {
   "cell_type": "code",
   "execution_count": null,
   "metadata": {},
   "outputs": [],
   "source": []
  },
  {
   "cell_type": "code",
   "execution_count": 1,
   "metadata": {},
   "outputs": [],
   "source": [
    "import fitz\n",
    "import json\n",
    "import base64"
   ]
  },
  {
   "cell_type": "code",
   "execution_count": 8,
   "metadata": {},
   "outputs": [],
   "source": [
    "doc = fitz.open('1.pdf')\n",
    "fontsize_to_use = 48\n",
    "text = \"Hellow World\"\n",
    "fontname_to_use = \"Times-Roman\"\n",
    "text_lenght = fitz.getTextlength(text, fontname=fontname_to_use, fontsize=fontsize_to_use)\n",
    "for page in doc:\n",
    "    rect_x1 = 50\n",
    "    rect_y1 = 100\n",
    "    rect_x2 = rect_x1 + text_lenght + 2  # needs margin\n",
    "    rect_y2 = rect_y1 + fontsize_to_use + 2  # needs margin\n",
    "    rect = (rect_x1, rect_y1, rect_x2, rect_y2)\n",
    "\n",
    "    ## Uncomment if you wish to display rect\n",
    "    # page.drawRect(rect,color=(.25,1,0.25)) \n",
    "\n",
    "    page.insertText((50,100), text, fontsize=fontsize_to_use, fontname=fontname_to_use, color=(0,0,0))\n",
    "    page.insertImage(rect, filename='0.jpg')\n",
    "doc.save('write.pdf')"
   ]
  },
  {
   "cell_type": "code",
   "execution_count": null,
   "metadata": {},
   "outputs": [],
   "source": []
  },
  {
   "cell_type": "code",
   "execution_count": null,
   "metadata": {},
   "outputs": [],
   "source": []
  },
  {
   "cell_type": "code",
   "execution_count": 2,
   "metadata": {
    "scrolled": true
   },
   "outputs": [
    {
     "name": "stdout",
     "output_type": "stream",
     "text": [
      "1-0.png\n",
      "2-0.png\n",
      "2-1.png\n"
     ]
    }
   ],
   "source": [
    "data = json.load(open('input.json', 'r'))\n",
    "for d in data:\n",
    "    if d['type'] == 'img':\n",
    "        name = d['page'] + '-' + d['id'] + '.png'\n",
    "        print(name)\n",
    "        open(name, 'wb').write(base64.b64decode(d['img'].replace('data:image/png;base64,', '')))"
   ]
  },
  {
   "cell_type": "code",
   "execution_count": null,
   "metadata": {},
   "outputs": [],
   "source": []
  }
 ],
 "metadata": {
  "kernelspec": {
   "display_name": "Python 3",
   "language": "python",
   "name": "python3"
  },
  "language_info": {
   "codemirror_mode": {
    "name": "ipython",
    "version": 3
   },
   "file_extension": ".py",
   "mimetype": "text/x-python",
   "name": "python",
   "nbconvert_exporter": "python",
   "pygments_lexer": "ipython3",
   "version": "3.5.6"
  }
 },
 "nbformat": 4,
 "nbformat_minor": 2
}
